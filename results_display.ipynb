{
 "cells": [
  {
   "cell_type": "code",
   "execution_count": 1,
   "metadata": {
    "collapsed": false
   },
   "outputs": [
    {
     "name": "stderr",
     "output_type": "stream",
     "text": [
      "Using TensorFlow backend.\n"
     ]
    }
   ],
   "source": [
    "from __init__ import *\n",
    "from keras.models import load_model\n",
    "% matplotlib inline"
   ]
  },
  {
   "cell_type": "code",
   "execution_count": 2,
   "metadata": {
    "collapsed": false
   },
   "outputs": [],
   "source": [
    "key = 'artificial'\n",
    "mindate = '2017-01-12'\n",
    "files = [f for f in os.listdir('results') if (key in f) and ('.pkl' in f)]\n",
    "read_tables = []\n",
    "for f in files:\n",
    "    try:\n",
    "        df = pd.read_pickle('results/' + f)\n",
    "        df = df[df['dt'] > pd.Timestamp(mindate)]\n",
    "        df['epochs'] = df['loss'].apply(lambda x: len(x))\n",
    "        df = df[df['epochs'] > 5]\n",
    "        if df.shape[0] == 0:\n",
    "            continue\n",
    "        if 'objective' not in df.columns:\n",
    "            df['objective'] = 'regr' if ('regr' in f) else 'class'\n",
    "        if 'returns' not in df.columns:\n",
    "            df['returns'] = ('ret' in f)\n",
    "        elif 'both' in f:\n",
    "            df = df[df['returns']] ###### screwed up classification loss in 'both'\n",
    "        if 'full_shift' not in df.columns:\n",
    "            df['full_shift'] = True\n",
    "        df['NeX'] = ('NeX' in f)\n",
    "        if 'batch_size' not in df.columns:\n",
    "            df['batch_size'] = 64\n",
    "        if 'channels' not in df.columns:\n",
    "            if 'filters' in df.columns:\n",
    "                df['channels'] = df['filters']\n",
    "            else:\n",
    "                df['channels'] = 1\n",
    "        else:\n",
    "            df.loc[np.isnan(df['channels']), 'channels'] = 1\n",
    "        if 'model' in df.columns:\n",
    "            pass\n",
    "        elif ('benchmark' in f) or ('lr' in f):\n",
    "            df['model'] = 'lr'\n",
    "        elif 'cnn' in f:\n",
    "            df['model'] = 'cnn'\n",
    "        elif 'gru' in f:\n",
    "            df['model'] = 'gru'\n",
    "        elif 'lstm' in f:\n",
    "            df['model'] = 'lstm'\n",
    "        elif 'value_importance3' in f:\n",
    "            df['model'] = 'so3'\n",
    "        elif ('cvi' in f) or ('cnnvi' in f):\n",
    "            df['model'] = 'cso'\n",
    "        else:\n",
    "            df['model'] = 'so'\n",
    "        keys, funcs, names = [], [], []\n",
    "        df['best_mse'] = np.NaN\n",
    "        df['best_acc'] = np.NaN\n",
    "        if ('class' in f) or all(df['objective'] == 'class'):\n",
    "            if 'val_main_output_acc' in df.columns:\n",
    "                keys.append('val_main_output_acc')\n",
    "                funcs.append(np.nanmax)\n",
    "                names.append('best_acc')\n",
    "            elif 'val_acc' in df.columns:\n",
    "                keys.append('val_acc')\n",
    "                funcs.append(np.nanmax)\n",
    "                names.append('best_acc')\n",
    "        if ('regr' in f) or all(df['objective'] == 'regr') :\n",
    "            if 'val_main_output_loss' in df.columns:\n",
    "                keys.append('val_main_output_loss')\n",
    "                funcs.append(np.nanmin)\n",
    "                names.append('best_mse')\n",
    "            elif 'val_loss' in df.columns:\n",
    "                keys.append('val_loss')\n",
    "                funcs.append(np.nanmin)        \n",
    "                names.append('best_mse')\n",
    "        for k, func, n in zip(keys, funcs, names):\n",
    "            df[n] = df[k].apply(lambda x: func(x))\n",
    "        df['file'] = ''.join(f.split(key)) if (len(key) > 0) else f\n",
    "        read_tables.append(df.copy())\n",
    "    except Exception as e:\n",
    "        print(e)\n",
    "        \n",
    "def total_params(model):\n",
    "    return np.sum([np.sum([np.prod(K.eval(w).shape) for w in l.trainable_weights]) for l in model.layers])\n",
    "\n",
    "all_results = pd.concat(read_tables)  \n",
    "all_results.reset_index(inplace=True)\n",
    "all_results['total_params'] = all_results['hdf5'].apply(lambda x: total_params(load_model(x)))\n",
    "                \n",
    "def get_pivot(setting, df, valcols=[]):\n",
    "    if setting['objective'] == 'class':\n",
    "        best = 'best_acc'\n",
    "        func = max\n",
    "    else:\n",
    "        best = 'best_mse'\n",
    "        func = min\n",
    "    df0 = df.copy()\n",
    "    for k, v in setting.items():\n",
    "        df0 = df0[df0[k] == v]\n",
    "    df0 = df0[df0.groupby(['data', 'model'])[best].transform(func) == df0[best]]\n",
    "    pivs = [df0.pivot(index='data', columns='model', values=best)]\n",
    "    for col in valcols:\n",
    "        piv = df0.pivot(index='data', columns='model', values=col)\n",
    "        piv.rename(columns=dict([(c, col[:3] + '_' + c) for c in piv.columns]), inplace=True)\n",
    "        pivs.append(piv.copy())\n",
    "    return df0, pd.concat(pivs, axis=1)"
   ]
  },
  {
   "cell_type": "code",
   "execution_count": 3,
   "metadata": {
    "collapsed": false
   },
   "outputs": [
    {
     "data": {
      "text/plain": [
       "Index(['index', 'NeX', 'act', 'architecture', 'aux_weight', 'batch_size',\n",
       "       'best_acc', 'best_mse', 'channels', 'connection_freq', 'data',\n",
       "       'dataset', 'date', 'datetime', 'diffs', 'dropout', 'dt', 'epochs',\n",
       "       'file', 'filters', 'full_shift', 'hdf5', 'input_length', 'kernelsize',\n",
       "       'layers_no', 'loss', 'main_output_loss', 'maxpooling', 'model',\n",
       "       'nonnegative', 'norm', 'objective', 'output_length', 'patience',\n",
       "       'poolsize', 'resnet', 'returns', 'shared_final_weights', 'target_cols',\n",
       "       'training_time', 'val_loss', 'val_main_output_loss',\n",
       "       'val_value_output_loss', 'value_output_loss', 'verbose',\n",
       "       'total_params'],\n",
       "      dtype='object')"
      ]
     },
     "execution_count": 3,
     "metadata": {},
     "output_type": "execute_result"
    }
   ],
   "source": [
    "all_results.columns"
   ]
  },
  {
   "cell_type": "code",
   "execution_count": 4,
   "metadata": {
    "collapsed": false
   },
   "outputs": [
    {
     "data": {
      "text/html": [
       "<div>\n",
       "<table border=\"1\" class=\"dataframe\">\n",
       "  <thead>\n",
       "    <tr style=\"text-align: right;\">\n",
       "      <th></th>\n",
       "      <th>model</th>\n",
       "      <th>diffs</th>\n",
       "      <th>best_mse</th>\n",
       "      <th>batch_size</th>\n",
       "      <th>kernelsize</th>\n",
       "      <th>maxpooling</th>\n",
       "      <th>layers_no</th>\n",
       "      <th>dropout</th>\n",
       "      <th>filters</th>\n",
       "      <th>total_params</th>\n",
       "      <th>epochs</th>\n",
       "      <th>training_time</th>\n",
       "      <th>target_cols</th>\n",
       "      <th>datetime</th>\n",
       "    </tr>\n",
       "  </thead>\n",
       "  <tbody>\n",
       "    <tr>\n",
       "      <th>0</th>\n",
       "      <td>cnn</td>\n",
       "      <td>True</td>\n",
       "      <td>0.552558</td>\n",
       "      <td>128</td>\n",
       "      <td>[1, 3]</td>\n",
       "      <td>3.0</td>\n",
       "      <td>10</td>\n",
       "      <td>(0,)</td>\n",
       "      <td>32</td>\n",
       "      <td>14707.0</td>\n",
       "      <td>37</td>\n",
       "      <td>2651.253457</td>\n",
       "      <td>[original, source0, source1, source2, source3,...</td>\n",
       "      <td>2017-02-09T19:45:58.647712</td>\n",
       "    </tr>\n",
       "    <tr>\n",
       "      <th>1</th>\n",
       "      <td>cso</td>\n",
       "      <td>True</td>\n",
       "      <td>0.597205</td>\n",
       "      <td>128</td>\n",
       "      <td>[3, 1]</td>\n",
       "      <td>NaN</td>\n",
       "      <td>10</td>\n",
       "      <td>(0, 0)</td>\n",
       "      <td>16</td>\n",
       "      <td>13367.0</td>\n",
       "      <td>30</td>\n",
       "      <td>3651.651942</td>\n",
       "      <td>[original, source0, source1, source2, source3,...</td>\n",
       "      <td>2017-02-10T11:57:38.716507</td>\n",
       "    </tr>\n",
       "    <tr>\n",
       "      <th>2</th>\n",
       "      <td>cso</td>\n",
       "      <td>True</td>\n",
       "      <td>0.583270</td>\n",
       "      <td>128</td>\n",
       "      <td>[3, 1]</td>\n",
       "      <td>NaN</td>\n",
       "      <td>10</td>\n",
       "      <td>(0, 0)</td>\n",
       "      <td>16</td>\n",
       "      <td>12135.0</td>\n",
       "      <td>53</td>\n",
       "      <td>4711.869922</td>\n",
       "      <td>[original, source0, source1, source2, source3,...</td>\n",
       "      <td>2017-02-10T13:16:10.633306</td>\n",
       "    </tr>\n",
       "  </tbody>\n",
       "</table>\n",
       "</div>"
      ],
      "text/plain": [
       "  model diffs  best_mse  batch_size kernelsize  maxpooling  layers_no dropout  \\\n",
       "0   cnn  True  0.552558         128     [1, 3]         3.0         10    (0,)   \n",
       "1   cso  True  0.597205         128     [3, 1]         NaN         10  (0, 0)   \n",
       "2   cso  True  0.583270         128     [3, 1]         NaN         10  (0, 0)   \n",
       "\n",
       "   filters  total_params  epochs  training_time  \\\n",
       "0       32       14707.0      37    2651.253457   \n",
       "1       16       13367.0      30    3651.651942   \n",
       "2       16       12135.0      53    4711.869922   \n",
       "\n",
       "                                         target_cols  \\\n",
       "0  [original, source0, source1, source2, source3,...   \n",
       "1  [original, source0, source1, source2, source3,...   \n",
       "2  [original, source0, source1, source2, source3,...   \n",
       "\n",
       "                     datetime  \n",
       "0  2017-02-09T19:45:58.647712  \n",
       "1  2017-02-10T11:57:38.716507  \n",
       "2  2017-02-10T13:16:10.633306  "
      ]
     },
     "execution_count": 4,
     "metadata": {},
     "output_type": "execute_result"
    }
   ],
   "source": [
    "all_results[['model', 'diffs', 'best_mse', 'batch_size', 'kernelsize', 'maxpooling', 'layers_no', 'dropout', 'filters', 'total_params',\n",
    "             'epochs', 'training_time', 'target_cols', 'datetime']]"
   ]
  },
  {
   "cell_type": "code",
   "execution_count": 5,
   "metadata": {
    "collapsed": false
   },
   "outputs": [
    {
     "data": {
      "text/plain": [
       "[0.61537181509610939,\n",
       " 0.58171056765012252,\n",
       " 0.57203544198702538,\n",
       " 0.57469816754261649,\n",
       " 0.56575402693870736,\n",
       " 0.56706893520477486,\n",
       " 0.58112220714489615,\n",
       " 0.56988594929377234,\n",
       " 0.56542671701082814,\n",
       " 0.64043041337759066,\n",
       " 0.56620757912213981,\n",
       " 0.55434255531200993,\n",
       " 0.56732459251697243,\n",
       " 0.58503962671145415,\n",
       " 0.56134608827340293,\n",
       " 0.56278951466083527,\n",
       " 0.56106424369873142,\n",
       " 0.56134369816535556,\n",
       " 0.5535125732421875,\n",
       " 0.55785083484191156,\n",
       " 0.55445878150371408,\n",
       " 0.5591017940105536,\n",
       " 0.5598077982282027,\n",
       " 0.55712134391069412,\n",
       " 0.55458579957485199,\n",
       " 0.56072608725382733,\n",
       " 0.55289119768601203,\n",
       " 0.55515288198605561,\n",
       " 0.55530440329741204,\n",
       " 0.55564242811539233,\n",
       " 0.55255777427019215,\n",
       " 0.55690014610687888,\n",
       " 0.55541758716870582,\n",
       " 0.55617128159755314,\n",
       " 0.55612507519813681,\n",
       " 0.55582176817533302,\n",
       " 0.55410710626687754]"
      ]
     },
     "execution_count": 5,
     "metadata": {},
     "output_type": "execute_result"
    }
   ],
   "source": [
    "all_results['val_loss'][0]"
   ]
  },
  {
   "cell_type": "code",
   "execution_count": 19,
   "metadata": {
    "collapsed": false
   },
   "outputs": [
    {
     "data": {
      "text/plain": [
       "[<matplotlib.lines.Line2D at 0x20c331ca668>]"
      ]
     },
     "execution_count": 19,
     "metadata": {},
     "output_type": "execute_result"
    },
    {
     "data": {
      "image/png": "[encoded data removed]",
      "text/plain": [
       "<matplotlib.figure.Figure at 0x20c33179e48>"
      ]
     },
     "metadata": {},
     "output_type": "display_data"
    }
   ],
   "source": [
    "plt.plot(all_results['val_main_output_loss'][10])"
   ]
  },
  {
   "cell_type": "code",
   "execution_count": 46,
   "metadata": {
    "collapsed": false
   },
   "outputs": [],
   "source": [
    "\n",
    "mod = load_model(all_results['hdf5'][6])"
   ]
  },
  {
   "cell_type": "code",
   "execution_count": 47,
   "metadata": {
    "collapsed": false
   },
   "outputs": [
    {
     "data": {
      "text/plain": [
       "[(0, 'value_input', []),\n",
       " (1, 'conv1', [(3, 1, 8, 16), (16,)]),\n",
       " (2, 'batchnormalization_11', [(16,), (16,)]),\n",
       " (3, 'activation_11', []),\n",
       " (4, 'conv2', [(3, 1, 16, 16), (16,)]),\n",
       " (5, 'batchnormalization_12', [(16,), (16,)]),\n",
       " (6, 'activation_12', []),\n",
       " (7, 'maxpooling1d_1', []),\n",
       " (8, 'conv4', [(3, 1, 16, 16), (16,)]),\n",
       " (9, 'batchnormalization_13', [(16,), (16,)]),\n",
       " (10, 'activation_13', []),\n",
       " (11, 'conv5', [(3, 1, 16, 16), (16,)]),\n",
       " (12, 'batchnormalization_14', [(16,), (16,)]),\n",
       " (13, 'activation_14', []),\n",
       " (14, 'maxpooling1d_2', []),\n",
       " (15, 'conv7', [(3, 1, 16, 16), (16,)]),\n",
       " (16, 'batchnormalization_15', [(16,), (16,)]),\n",
       " (17, 'activation_15', []),\n",
       " (18, 'conv8', [(3, 1, 16, 16), (16,)]),\n",
       " (19, 'batchnormalization_16', [(16,), (16,)]),\n",
       " (20, 'activation_16', []),\n",
       " (21, 'maxpooling1d_3', []),\n",
       " (22, 'conv10', [(3, 1, 16, 1), (1,)]),\n",
       " (23, 'batchnormalization_17', [(1,), (1,)]),\n",
       " (24, 'activation_17', []),\n",
       " (25, 'flatten_2', []),\n",
       " (26, 'dense_2', [(7, 1), (1,)])]"
      ]
     },
     "execution_count": 47,
     "metadata": {},
     "output_type": "execute_result"
    }
   ],
   "source": [
    "[(i, l.name, [K.eval(w).shape for w in l.trainable_weights]) for i, l in enumerate(mod.layers)]"
   ]
  },
  {
   "cell_type": "code",
   "execution_count": 6,
   "metadata": {
    "collapsed": false
   },
   "outputs": [],
   "source": [
    "df =pd.DataFrame(np.arange(6).reshape(3,2), columns = ['a', 'b'])"
   ]
  },
  {
   "cell_type": "code",
   "execution_count": 8,
   "metadata": {
    "collapsed": false
   },
   "outputs": [
    {
     "data": {
      "text/html": [
       "<div>\n",
       "<table border=\"1\" class=\"dataframe\">\n",
       "  <thead>\n",
       "    <tr style=\"text-align: right;\">\n",
       "      <th></th>\n",
       "      <th>a</th>\n",
       "      <th>b</th>\n",
       "    </tr>\n",
       "  </thead>\n",
       "  <tbody>\n",
       "    <tr>\n",
       "      <th>0</th>\n",
       "      <td>0</td>\n",
       "      <td>1</td>\n",
       "    </tr>\n",
       "    <tr>\n",
       "      <th>1</th>\n",
       "      <td>2</td>\n",
       "      <td>3</td>\n",
       "    </tr>\n",
       "    <tr>\n",
       "      <th>2</th>\n",
       "      <td>4</td>\n",
       "      <td>5</td>\n",
       "    </tr>\n",
       "  </tbody>\n",
       "</table>\n",
       "</div>"
      ],
      "text/plain": [
       "   a  b\n",
       "0  0  1\n",
       "1  2  3\n",
       "2  4  5"
      ]
     },
     "execution_count": 8,
     "metadata": {},
     "output_type": "execute_result"
    }
   ],
   "source": [
    "df"
   ]
  },
  {
   "cell_type": "code",
   "execution_count": 7,
   "metadata": {
    "collapsed": false
   },
   "outputs": [
    {
     "data": {
      "text/html": [
       "<div>\n",
       "<table border=\"1\" class=\"dataframe\">\n",
       "  <thead>\n",
       "    <tr style=\"text-align: right;\">\n",
       "      <th></th>\n",
       "      <th>a</th>\n",
       "      <th>b</th>\n",
       "    </tr>\n",
       "  </thead>\n",
       "  <tbody>\n",
       "    <tr>\n",
       "      <th>0</th>\n",
       "      <td>NaN</td>\n",
       "      <td>NaN</td>\n",
       "    </tr>\n",
       "    <tr>\n",
       "      <th>1</th>\n",
       "      <td>2.0</td>\n",
       "      <td>2.0</td>\n",
       "    </tr>\n",
       "    <tr>\n",
       "      <th>2</th>\n",
       "      <td>2.0</td>\n",
       "      <td>2.0</td>\n",
       "    </tr>\n",
       "  </tbody>\n",
       "</table>\n",
       "</div>"
      ],
      "text/plain": [
       "     a    b\n",
       "0  NaN  NaN\n",
       "1  2.0  2.0\n",
       "2  2.0  2.0"
      ]
     },
     "execution_count": 7,
     "metadata": {},
     "output_type": "execute_result"
    }
   ],
   "source": [
    "df.diff()"
   ]
  },
  {
   "cell_type": "code",
   "execution_count": 2,
   "metadata": {
    "collapsed": false
   },
   "outputs": [
    {
     "ename": "NameError",
     "evalue": "name 'get_pivot' is not defined",
     "output_type": "error",
     "traceback": [
      "\u001b[1;31m---------------------------------------------------------------------------\u001b[0m",
      "\u001b[1;31mNameError\u001b[0m                                 Traceback (most recent call last)",
      "\u001b[1;32m<ipython-input-2-e2d198778a15>\u001b[0m in \u001b[0;36m<module>\u001b[1;34m()\u001b[0m\n\u001b[0;32m      3\u001b[0m )\n\u001b[0;32m      4\u001b[0m \u001b[1;33m\u001b[0m\u001b[0m\n\u001b[1;32m----> 5\u001b[1;33m \u001b[0mdf0\u001b[0m\u001b[1;33m,\u001b[0m \u001b[0mpivot\u001b[0m \u001b[1;33m=\u001b[0m \u001b[0mget_pivot\u001b[0m\u001b[1;33m(\u001b[0m\u001b[0msetting\u001b[0m\u001b[1;33m,\u001b[0m \u001b[0mall_results\u001b[0m\u001b[1;33m,\u001b[0m \u001b[1;33m[\u001b[0m\u001b[1;34m'aux_weight'\u001b[0m\u001b[1;33m]\u001b[0m\u001b[1;33m)\u001b[0m\u001b[1;33m\u001b[0m\u001b[0m\n\u001b[0m\u001b[0;32m      6\u001b[0m \u001b[0mpivot\u001b[0m\u001b[1;33m\u001b[0m\u001b[0m\n",
      "\u001b[1;31mNameError\u001b[0m: name 'get_pivot' is not defined"
     ]
    }
   ],
   "source": [
    "setting = dict(\n",
    "    objective = 'regr',\n",
    ")\n",
    "\n",
    "df0, pivot = get_pivot(setting, all_results, ['aux_weight'])\n",
    "pivot"
   ]
  },
  {
   "cell_type": "code",
   "execution_count": 5,
   "metadata": {
    "collapsed": false,
    "scrolled": false
   },
   "outputs": [
    {
     "data": {
      "text/plain": [
       "(0, 1.5)"
      ]
     },
     "execution_count": 5,
     "metadata": {},
     "output_type": "execute_result"
    },
    {
     "data": {
      "image/png": "[encoded data removed]",
      "text/plain": [
       "<matplotlib.figure.Figure at 0x20b5ae014a8>"
      ]
     },
     "metadata": {},
     "output_type": "display_data"
    }
   ],
   "source": [
    "pivot0 = pivot[[c for c in pivot.columns if (len(c) <= 3)]]\n",
    "# pivot0 = pivot0[np.isnan(pivot0).sum(axis=1)==0].copy()\n",
    "pivot0 = pivot0.copy()\n",
    "pivot0.sort_values(pivot0.columns[-1], inplace=True, ascending=True)\n",
    "pivot0.reset_index(drop=False, inplace=True)\n",
    "fig, ax = plt.subplots(1, figsize=(6,6))\n",
    "colors = sns.color_palette(\"Set2\", 8)\n",
    "for c, color in zip(pivot0.columns[1:], colors):\n",
    "    ax.scatter(pivot0[c], pivot0.index, label=c, color=color, s=40, alpha=.5)\n",
    "# ax.set_xscale('log')\n",
    "ax.set_yticks(pivot0.index)\n",
    "ax.set_yticklabels(pivot0['data'])\n",
    "ax.legend(loc=2)\n",
    "ax.set_xlim((0, 1.5))"
   ]
  },
  {
   "cell_type": "code",
   "execution_count": 6,
   "metadata": {
    "collapsed": false
   },
   "outputs": [],
   "source": [
    "df1 = df0[df0['model'] == 'so'].copy()\n",
    "df1 = df1[df1['best_mse'] == df1.groupby('data')['best_mse'].transform(min)]"
   ]
  },
  {
   "cell_type": "code",
   "execution_count": 23,
   "metadata": {
    "collapsed": false
   },
   "outputs": [],
   "source": [
    "from raw_quote import utils, ret_utils, utils2\n",
    "from keras.models import load_model\n",
    "\n",
    "sources = ['ABNP', 'BMLE', 'BMLM', 'BXCY','Barc','CCGB','CCGC','CCIB','CGCX','CMAr','CSDE','CSEO','Citi','Deut',\n",
    "           'EBNP','GSET','GSMX','GSOL','HSCX','JCTT','JPGP','MBNP','MSTT','MSTX','SCDS','SGMI','SocG','UBCD']\n",
    "cols = sources + ['dir', 'price', 'time'] + ['imps', 'shifts']\n",
    "\n",
    "def get_layer_no(nn, name):\n",
    "    for n, l in enumerate(nn.layers):\n",
    "        if l.name == name:\n",
    "            print(('layer no for ', l.name, name, n))\n",
    "            return n\n",
    "    return None\n",
    "\n",
    "def get_info(source_id, df, sources=sources, cols=cols, steps=None):\n",
    "    with tf.Session() as sess:\n",
    "        nn = load_model(df['hdf5'][source_id])\n",
    "        source = df.loc[source_id, 'data']\n",
    "\n",
    "        X, y, n_train, n_all, div, Xmeans, Xstds = utils2.getXy2('preprocessed/raw_%s.pickle' % source, return_stats=True)  \n",
    "        df.loc[source_id, 'dim'] = X.shape[0]\n",
    "        if steps is None:\n",
    "            steps = n_train\n",
    "\n",
    "        imp = Model(input=[nn.layers[get_layer_no(nn, 'importance_input')].input], \n",
    "                    output=[nn.layers[get_layer_no(nn, 'softmax')].output]) # softmax\n",
    "        shift_input = 'shift_input'\n",
    "        shift_no = get_layer_no(nn, 'shift_input')\n",
    "        if shift_no is None:\n",
    "            shift_no = get_layer_no(nn, 'importance_input')\n",
    "            shift_input = 'importance_input'\n",
    "        shift = Model(input=[nn.layers[shift_no].input], \n",
    "                      output=[nn.layers[get_layer_no(nn, 'shiftreshape')].output]) #shiftreshape\n",
    "        length = 100\n",
    "        gen = utils2.vgen(X, y, 0, n_train, length, utils2.VI_ret_regr, validator=utils2.validator0)\n",
    "\n",
    "        imps = []\n",
    "        shifts = []\n",
    "        info = []\n",
    "        for i in range(steps):\n",
    "            if np.random.rand() > .1:\n",
    "                continue\n",
    "            xx, _ = next(gen)\n",
    "            info.append(xx['importance_input'][:, :, :])\n",
    "            imps.append(imp.predict_on_batch(xx['importance_input']))\n",
    "            shifts.append(shift.predict_on_batch(xx[shift_input]))\n",
    "            if i%5000 == 0:\n",
    "                print('steps %d/%d' % (i, steps))\n",
    "        \n",
    "        dim = info[0].shape[0]\n",
    "        \n",
    "        info2 = [np.concatenate([inf, i.reshape(dim, 100, 1), sh.reshape(dim, 100, 1)], axis=2) for inf, i, sh in zip(info, imps, shifts)]\n",
    "        info2 = np.concatenate(np.concatenate(info2, axis=1), axis=0)\n",
    "        info2[:, :28] = (info2[:, :28] > 0)\n",
    "\n",
    "        info3 = pd.DataFrame(info2, columns=cols)\n",
    "        info3['source'] = np.nan\n",
    "        for s in sources:\n",
    "            info3.loc[info3[s] > 0, 'source'] = s    \n",
    "        return info3"
   ]
  },
  {
   "cell_type": "code",
   "execution_count": 24,
   "metadata": {
    "collapsed": false
   },
   "outputs": [
    {
     "name": "stdout",
     "output_type": "stream",
     "text": [
      "((64, 26250, 35), 21000, 26250)\n",
      "('layer no for ', 'importance_input', 'importance_input', 2)\n",
      "('layer no for ', 'softmax', 'softmax', 33)\n",
      "('layer no for ', 'shift_input', 'shift_input', 0)\n",
      "('layer no for ', 'shiftreshape', 'shiftreshape', 29)\n",
      "BMLM\n",
      "((64, 26250, 35), 21000, 26250)\n",
      "('layer no for ', 'importance_input', 'importance_input', 2)\n",
      "('layer no for ', 'softmax', 'softmax', 33)\n",
      "('layer no for ', 'shift_input', 'shift_input', 0)\n",
      "('layer no for ', 'shiftreshape', 'shiftreshape', 29)\n",
      "GSET\n",
      "((64, 26250, 35), 21000, 26250)\n",
      "('layer no for ', 'importance_input', 'importance_input', 2)\n",
      "('layer no for ', 'softmax', 'softmax', 33)\n",
      "('layer no for ', 'shift_input', 'shift_input', 0)\n",
      "('layer no for ', 'shiftreshape', 'shiftreshape', 29)\n",
      "SCDS\n",
      "((64, 26250, 35), 21000, 26250)\n",
      "('layer no for ', 'importance_input', 'importance_input', 8)\n",
      "('layer no for ', 'softmax', 'softmax', 27)\n",
      "('layer no for ', 'shift_input', 'shift_input', 0)\n",
      "('layer no for ', 'shiftreshape', 'shiftreshape', 23)\n",
      "BMLE\n",
      "((40, 26250, 35), 21000, 26250)\n",
      "('layer no for ', 'importance_input', 'importance_input', 8)\n",
      "('layer no for ', 'softmax', 'softmax', 27)\n",
      "('layer no for ', 'shift_input', 'shift_input', 0)\n",
      "('layer no for ', 'shiftreshape', 'shiftreshape', 23)\n",
      "steps 15000/21000\n",
      "CCIB\n",
      "((64, 26250, 35), 21000, 26250)\n",
      "('layer no for ', 'importance_input', 'importance_input', 8)\n",
      "('layer no for ', 'softmax', 'softmax', 27)\n",
      "('layer no for ', 'shift_input', 'shift_input', 0)\n",
      "('layer no for ', 'shiftreshape', 'shiftreshape', 23)\n",
      "steps 10000/21000\n",
      "JPGP\n",
      "((64, 26250, 35), 21000, 26250)\n",
      "('layer no for ', 'importance_input', 'importance_input', 8)\n",
      "('layer no for ', 'softmax', 'softmax', 27)\n",
      "('layer no for ', 'shift_input', 'shift_input', 0)\n",
      "('layer no for ', 'shiftreshape', 'shiftreshape', 23)\n",
      "GSMX\n",
      "((64, 26250, 35), 21000, 26250)\n",
      "('layer no for ', 'importance_input', 'importance_input', 8)\n",
      "('layer no for ', 'softmax', 'softmax', 27)\n",
      "('layer no for ', 'shift_input', 'shift_input', 0)\n",
      "('layer no for ', 'shiftreshape', 'shiftreshape', 23)\n",
      "MSTT\n",
      "((64, 26250, 35), 21000, 26250)\n",
      "('layer no for ', 'importance_input', 'importance_input', 0)\n",
      "('layer no for ', 'softmax', 'softmax', 32)\n",
      "('layer no for ', 'importance_input', 'importance_input', 0)\n",
      "('layer no for ', 'shiftreshape', 'shiftreshape', 28)\n",
      "steps 5000/21000\n",
      "CSDE\n",
      "((64, 26250, 35), 21000, 26250)\n",
      "('layer no for ', 'importance_input', 'importance_input', 0)\n",
      "('layer no for ', 'softmax', 'softmax', 32)\n",
      "('layer no for ', 'importance_input', 'importance_input', 0)\n",
      "('layer no for ', 'shiftreshape', 'shiftreshape', 28)\n",
      "CSEO\n",
      "((56, 26250, 35), 21000, 26250)\n",
      "('layer no for ', 'importance_input', 'importance_input', 0)\n",
      "('layer no for ', 'softmax', 'softmax', 32)\n",
      "('layer no for ', 'importance_input', 'importance_input', 0)\n",
      "('layer no for ', 'shiftreshape', 'shiftreshape', 28)\n",
      "EBNP\n",
      "((64, 26250, 35), 21000, 26250)\n",
      "('layer no for ', 'importance_input', 'importance_input', 0)\n",
      "('layer no for ', 'softmax', 'softmax', 32)\n",
      "('layer no for ', 'importance_input', 'importance_input', 0)\n",
      "('layer no for ', 'shiftreshape', 'shiftreshape', 28)\n",
      "steps 5000/21000\n",
      "JCTT\n",
      "((64, 26250, 35), 21000, 26250)\n",
      "('layer no for ', 'importance_input', 'importance_input', 0)\n",
      "('layer no for ', 'softmax', 'softmax', 32)\n",
      "('layer no for ', 'importance_input', 'importance_input', 0)\n",
      "('layer no for ', 'shiftreshape', 'shiftreshape', 28)\n",
      "steps 10000/21000\n",
      "MBNP\n",
      "((64, 26250, 35), 21000, 26250)\n",
      "('layer no for ', 'importance_input', 'importance_input', 0)\n",
      "('layer no for ', 'softmax', 'softmax', 32)\n",
      "('layer no for ', 'importance_input', 'importance_input', 0)\n",
      "('layer no for ', 'shiftreshape', 'shiftreshape', 28)\n",
      "MSTX\n",
      "((16, 26250, 35), 21000, 26250)\n",
      "('layer no for ', 'importance_input', 'importance_input', 0)\n",
      "('layer no for ', 'softmax', 'softmax', 32)\n",
      "('layer no for ', 'importance_input', 'importance_input', 0)\n",
      "('layer no for ', 'shiftreshape', 'shiftreshape', 28)\n",
      "steps 20000/21000\n",
      "ABNP\n",
      "((16, 26250, 35), 21000, 26250)\n",
      "('layer no for ', 'importance_input', 'importance_input', 0)\n",
      "('layer no for ', 'softmax', 'softmax', 32)\n",
      "('layer no for ', 'importance_input', 'importance_input', 0)\n",
      "('layer no for ', 'shiftreshape', 'shiftreshape', 28)\n",
      "BXCY\n",
      "((56, 26250, 35), 21000, 26250)\n",
      "('layer no for ', 'importance_input', 'importance_input', 0)\n",
      "('layer no for ', 'softmax', 'softmax', 32)\n",
      "('layer no for ', 'importance_input', 'importance_input', 0)\n",
      "('layer no for ', 'shiftreshape', 'shiftreshape', 28)\n",
      "Barc\n",
      "((16, 26250, 35), 21000, 26250)\n",
      "('layer no for ', 'importance_input', 'importance_input', 0)\n",
      "('layer no for ', 'softmax', 'softmax', 32)\n",
      "('layer no for ', 'importance_input', 'importance_input', 0)\n",
      "('layer no for ', 'shiftreshape', 'shiftreshape', 28)\n",
      "CCGB\n",
      "((16, 26250, 35), 21000, 26250)\n",
      "('layer no for ', 'importance_input', 'importance_input', 0)\n",
      "('layer no for ', 'softmax', 'softmax', 32)\n",
      "('layer no for ', 'importance_input', 'importance_input', 0)\n",
      "('layer no for ', 'shiftreshape', 'shiftreshape', 28)\n",
      "steps 5000/21000\n",
      "steps 10000/21000\n",
      "CCGC\n",
      "((8, 26250, 35), 21000, 26250)\n",
      "('layer no for ', 'importance_input', 'importance_input', 0)\n",
      "('layer no for ', 'softmax', 'softmax', 32)\n",
      "('layer no for ', 'importance_input', 'importance_input', 0)\n",
      "('layer no for ', 'shiftreshape', 'shiftreshape', 28)\n",
      "CMAr\n",
      "((64, 26250, 35), 21000, 26250)\n",
      "('layer no for ', 'importance_input', 'importance_input', 0)\n",
      "('layer no for ', 'softmax', 'softmax', 32)\n",
      "('layer no for ', 'importance_input', 'importance_input', 0)\n",
      "('layer no for ', 'shiftreshape', 'shiftreshape', 28)\n",
      "steps 5000/21000\n",
      "Citi\n",
      "((64, 26250, 35), 21000, 26250)\n",
      "('layer no for ', 'importance_input', 'importance_input', 0)\n",
      "('layer no for ', 'softmax', 'softmax', 32)\n",
      "('layer no for ', 'importance_input', 'importance_input', 0)\n",
      "('layer no for ', 'shiftreshape', 'shiftreshape', 28)\n",
      "Deut\n",
      "((16, 26250, 35), 21000, 26250)\n",
      "('layer no for ', 'importance_input', 'importance_input', 0)\n",
      "('layer no for ', 'softmax', 'softmax', 32)\n",
      "('layer no for ', 'importance_input', 'importance_input', 0)\n",
      "('layer no for ', 'shiftreshape', 'shiftreshape', 28)\n",
      "GSOL\n",
      "((64, 26250, 35), 21000, 26250)\n",
      "('layer no for ', 'importance_input', 'importance_input', 0)\n",
      "('layer no for ', 'softmax', 'softmax', 32)\n",
      "('layer no for ', 'importance_input', 'importance_input', 0)\n",
      "('layer no for ', 'shiftreshape', 'shiftreshape', 28)\n",
      "HSCX\n",
      "((16, 26250, 35), 21000, 26250)\n",
      "('layer no for ', 'importance_input', 'importance_input', 0)\n",
      "('layer no for ', 'softmax', 'softmax', 32)\n",
      "('layer no for ', 'importance_input', 'importance_input', 0)\n",
      "('layer no for ', 'shiftreshape', 'shiftreshape', 28)\n",
      "SGMI\n",
      "((64, 26250, 35), 21000, 26250)\n",
      "('layer no for ', 'importance_input', 'importance_input', 0)\n",
      "('layer no for ', 'softmax', 'softmax', 32)\n",
      "('layer no for ', 'importance_input', 'importance_input', 0)\n",
      "('layer no for ', 'shiftreshape', 'shiftreshape', 28)\n",
      "SocG\n",
      "((16, 26250, 35), 21000, 26250)\n",
      "('layer no for ', 'importance_input', 'importance_input', 0)\n",
      "('layer no for ', 'softmax', 'softmax', 32)\n",
      "('layer no for ', 'importance_input', 'importance_input', 0)\n",
      "('layer no for ', 'shiftreshape', 'shiftreshape', 28)\n",
      "UBCD\n",
      "((16, 26250, 35), 21000, 26250)\n",
      "('layer no for ', 'importance_input', 'importance_input', 0)\n",
      "('layer no for ', 'softmax', 'softmax', 26)\n",
      "('layer no for ', 'importance_input', 'importance_input', 0)\n",
      "('layer no for ', 'shiftreshape', 'shiftreshape', 22)\n",
      "CGCX\n"
     ]
    }
   ],
   "source": [
    "df1['dim'] = np.nan\n",
    "df1['avg_imp'] = np.nan\n",
    "for idx in df1.index:\n",
    "    try:\n",
    "        info = get_info(idx, df1)\n",
    "        print(df1['data'][idx])\n",
    "        high_imp = info.groupby('source')['imps'].mean().sort_values(ascending=False)\n",
    "        df1.loc[idx, 'avg_imp'] = [high_imp.to_dict()]\n",
    "    except Exception as e:\n",
    "        print(e)"
   ]
  },
  {
   "cell_type": "code",
   "execution_count": 26,
   "metadata": {
    "collapsed": false
   },
   "outputs": [
    {
     "data": {
      "image/png": "[encoded data removed]",
      "text/plain": [
       "<matplotlib.figure.Figure at 0x20b65e553c8>"
      ]
     },
     "metadata": {},
     "output_type": "display_data"
    }
   ],
   "source": [
    "cross_imp = pd.DataFrame([dict(list(y[0].items()) + [('data', x)]) for x, y in zip(df1['data'], df1['avg_imp'])])\n",
    "cross_imp.set_index('data', drop=True, inplace=True)\n",
    "# sources_to_plot = [x for x in list(cross_imp.index) if x not in ['CCIB', 'EBNP']]\n",
    "# sources_to_plot = [s for s in sources if s not in ['ABNP', 'Barc', 'CCGC', 'CCIB', 'CMAr', 'EBNP', 'BXCY', 'GSOL']]\n",
    "sources_to_plot = ['BMLM', 'GSET', 'SCDS', 'BMLE', 'JPGP', 'GSMX', 'MSTT', 'CSDE', 'CSEO', \n",
    "                   'JCTT', 'MBNP', 'MSTX', 'Citi', 'Deut', 'HSCX', 'SocG']\n",
    "fig, ax = plt.subplots(1, figsize=(5,3.5))\n",
    "sns.heatmap(cross_imp.loc[sources_to_plot, sources_to_plot], ax=ax)\n",
    "ax.set_ylabel('')\n",
    "# ax.invert_yaxis()\n",
    "fig.subplots_adjust(bottom=0.15, left=.11, top=.97, right=.99)\n",
    "fig.savefig('plots\\cross_significance2.png')"
   ]
  },
  {
   "cell_type": "code",
   "execution_count": 327,
   "metadata": {
    "collapsed": false
   },
   "outputs": [
    {
     "ename": "KeyError",
     "evalue": "'avg_imp'",
     "output_type": "error",
     "traceback": [
      "\u001b[0;31m---------------------------------------------------------------------------\u001b[0m",
      "\u001b[0;31mKeyError\u001b[0m                                  Traceback (most recent call last)",
      "\u001b[0;32mC:\\Anaconda3\\envs\\tf35\\lib\\site-packages\\pandas\\indexes\\base.py\u001b[0m in \u001b[0;36mget_loc\u001b[0;34m(self, key, method, tolerance)\u001b[0m\n\u001b[1;32m   2133\u001b[0m             \u001b[1;32mtry\u001b[0m\u001b[1;33m:\u001b[0m\u001b[1;33m\u001b[0m\u001b[0m\n\u001b[0;32m-> 2134\u001b[0;31m                 \u001b[1;32mreturn\u001b[0m \u001b[0mself\u001b[0m\u001b[1;33m.\u001b[0m\u001b[0m_engine\u001b[0m\u001b[1;33m.\u001b[0m\u001b[0mget_loc\u001b[0m\u001b[1;33m(\u001b[0m\u001b[0mkey\u001b[0m\u001b[1;33m)\u001b[0m\u001b[1;33m\u001b[0m\u001b[0m\n\u001b[0m\u001b[1;32m   2135\u001b[0m             \u001b[1;32mexcept\u001b[0m \u001b[0mKeyError\u001b[0m\u001b[1;33m:\u001b[0m\u001b[1;33m\u001b[0m\u001b[0m\n",
      "\u001b[0;32mpandas\\index.pyx\u001b[0m in \u001b[0;36mpandas.index.IndexEngine.get_loc (pandas\\index.c:4443)\u001b[0;34m()\u001b[0m\n",
      "\u001b[0;32mpandas\\index.pyx\u001b[0m in \u001b[0;36mpandas.index.IndexEngine.get_loc (pandas\\index.c:4289)\u001b[0;34m()\u001b[0m\n",
      "\u001b[0;32mpandas\\src\\hashtable_class_helper.pxi\u001b[0m in \u001b[0;36mpandas.hashtable.PyObjectHashTable.get_item (pandas\\hashtable.c:13733)\u001b[0;34m()\u001b[0m\n",
      "\u001b[0;32mpandas\\src\\hashtable_class_helper.pxi\u001b[0m in \u001b[0;36mpandas.hashtable.PyObjectHashTable.get_item (pandas\\hashtable.c:13687)\u001b[0;34m()\u001b[0m\n",
      "\u001b[0;31mKeyError\u001b[0m: 'avg_imp'",
      "\nDuring handling of the above exception, another exception occurred:\n",
      "\u001b[0;31mKeyError\u001b[0m                                  Traceback (most recent call last)",
      "\u001b[0;32m<ipython-input-327-fe1c022c32c1>\u001b[0m in \u001b[0;36m<module>\u001b[0;34m()\u001b[0m\n\u001b[0;32m----> 1\u001b[0;31m \u001b[0mpd\u001b[0m\u001b[1;33m.\u001b[0m\u001b[0mDataFrame\u001b[0m\u001b[1;33m(\u001b[0m\u001b[1;33m[\u001b[0m\u001b[0mdict\u001b[0m\u001b[1;33m(\u001b[0m\u001b[0mlist\u001b[0m\u001b[1;33m(\u001b[0m\u001b[0my\u001b[0m\u001b[1;33m[\u001b[0m\u001b[1;36m0\u001b[0m\u001b[1;33m]\u001b[0m\u001b[1;33m.\u001b[0m\u001b[0mitems\u001b[0m\u001b[1;33m(\u001b[0m\u001b[1;33m)\u001b[0m\u001b[1;33m)\u001b[0m \u001b[1;33m+\u001b[0m \u001b[1;33m[\u001b[0m\u001b[1;33m(\u001b[0m\u001b[1;34m'data'\u001b[0m\u001b[1;33m,\u001b[0m \u001b[0mx\u001b[0m\u001b[1;33m)\u001b[0m\u001b[1;33m]\u001b[0m\u001b[1;33m)\u001b[0m \u001b[1;32mfor\u001b[0m \u001b[0mx\u001b[0m\u001b[1;33m,\u001b[0m \u001b[0my\u001b[0m \u001b[1;32min\u001b[0m \u001b[0mzip\u001b[0m\u001b[1;33m(\u001b[0m\u001b[0mdf1\u001b[0m\u001b[1;33m[\u001b[0m\u001b[1;34m'data'\u001b[0m\u001b[1;33m]\u001b[0m\u001b[1;33m,\u001b[0m \u001b[0mdf1\u001b[0m\u001b[1;33m[\u001b[0m\u001b[1;34m'avg_imp'\u001b[0m\u001b[1;33m]\u001b[0m\u001b[1;33m)\u001b[0m\u001b[1;33m]\u001b[0m\u001b[1;33m)\u001b[0m\u001b[1;33m\u001b[0m\u001b[0m\n\u001b[0m",
      "\u001b[0;32mC:\\Anaconda3\\envs\\tf35\\lib\\site-packages\\pandas\\core\\frame.py\u001b[0m in \u001b[0;36m__getitem__\u001b[0;34m(self, key)\u001b[0m\n\u001b[1;32m   2057\u001b[0m             \u001b[1;32mreturn\u001b[0m \u001b[0mself\u001b[0m\u001b[1;33m.\u001b[0m\u001b[0m_getitem_multilevel\u001b[0m\u001b[1;33m(\u001b[0m\u001b[0mkey\u001b[0m\u001b[1;33m)\u001b[0m\u001b[1;33m\u001b[0m\u001b[0m\n\u001b[1;32m   2058\u001b[0m         \u001b[1;32melse\u001b[0m\u001b[1;33m:\u001b[0m\u001b[1;33m\u001b[0m\u001b[0m\n\u001b[0;32m-> 2059\u001b[0;31m             \u001b[1;32mreturn\u001b[0m \u001b[0mself\u001b[0m\u001b[1;33m.\u001b[0m\u001b[0m_getitem_column\u001b[0m\u001b[1;33m(\u001b[0m\u001b[0mkey\u001b[0m\u001b[1;33m)\u001b[0m\u001b[1;33m\u001b[0m\u001b[0m\n\u001b[0m\u001b[1;32m   2060\u001b[0m \u001b[1;33m\u001b[0m\u001b[0m\n\u001b[1;32m   2061\u001b[0m     \u001b[1;32mdef\u001b[0m \u001b[0m_getitem_column\u001b[0m\u001b[1;33m(\u001b[0m\u001b[0mself\u001b[0m\u001b[1;33m,\u001b[0m \u001b[0mkey\u001b[0m\u001b[1;33m)\u001b[0m\u001b[1;33m:\u001b[0m\u001b[1;33m\u001b[0m\u001b[0m\n",
      "\u001b[0;32mC:\\Anaconda3\\envs\\tf35\\lib\\site-packages\\pandas\\core\\frame.py\u001b[0m in \u001b[0;36m_getitem_column\u001b[0;34m(self, key)\u001b[0m\n\u001b[1;32m   2064\u001b[0m         \u001b[1;31m# get column\u001b[0m\u001b[1;33m\u001b[0m\u001b[1;33m\u001b[0m\u001b[0m\n\u001b[1;32m   2065\u001b[0m         \u001b[1;32mif\u001b[0m \u001b[0mself\u001b[0m\u001b[1;33m.\u001b[0m\u001b[0mcolumns\u001b[0m\u001b[1;33m.\u001b[0m\u001b[0mis_unique\u001b[0m\u001b[1;33m:\u001b[0m\u001b[1;33m\u001b[0m\u001b[0m\n\u001b[0;32m-> 2066\u001b[0;31m             \u001b[1;32mreturn\u001b[0m \u001b[0mself\u001b[0m\u001b[1;33m.\u001b[0m\u001b[0m_get_item_cache\u001b[0m\u001b[1;33m(\u001b[0m\u001b[0mkey\u001b[0m\u001b[1;33m)\u001b[0m\u001b[1;33m\u001b[0m\u001b[0m\n\u001b[0m\u001b[1;32m   2067\u001b[0m \u001b[1;33m\u001b[0m\u001b[0m\n\u001b[1;32m   2068\u001b[0m         \u001b[1;31m# duplicate columns & possible reduce dimensionality\u001b[0m\u001b[1;33m\u001b[0m\u001b[1;33m\u001b[0m\u001b[0m\n",
      "\u001b[0;32mC:\\Anaconda3\\envs\\tf35\\lib\\site-packages\\pandas\\core\\generic.py\u001b[0m in \u001b[0;36m_get_item_cache\u001b[0;34m(self, item)\u001b[0m\n\u001b[1;32m   1384\u001b[0m         \u001b[0mres\u001b[0m \u001b[1;33m=\u001b[0m \u001b[0mcache\u001b[0m\u001b[1;33m.\u001b[0m\u001b[0mget\u001b[0m\u001b[1;33m(\u001b[0m\u001b[0mitem\u001b[0m\u001b[1;33m)\u001b[0m\u001b[1;33m\u001b[0m\u001b[0m\n\u001b[1;32m   1385\u001b[0m         \u001b[1;32mif\u001b[0m \u001b[0mres\u001b[0m \u001b[1;32mis\u001b[0m \u001b[1;32mNone\u001b[0m\u001b[1;33m:\u001b[0m\u001b[1;33m\u001b[0m\u001b[0m\n\u001b[0;32m-> 1386\u001b[0;31m             \u001b[0mvalues\u001b[0m \u001b[1;33m=\u001b[0m \u001b[0mself\u001b[0m\u001b[1;33m.\u001b[0m\u001b[0m_data\u001b[0m\u001b[1;33m.\u001b[0m\u001b[0mget\u001b[0m\u001b[1;33m(\u001b[0m\u001b[0mitem\u001b[0m\u001b[1;33m)\u001b[0m\u001b[1;33m\u001b[0m\u001b[0m\n\u001b[0m\u001b[1;32m   1387\u001b[0m             \u001b[0mres\u001b[0m \u001b[1;33m=\u001b[0m \u001b[0mself\u001b[0m\u001b[1;33m.\u001b[0m\u001b[0m_box_item_values\u001b[0m\u001b[1;33m(\u001b[0m\u001b[0mitem\u001b[0m\u001b[1;33m,\u001b[0m \u001b[0mvalues\u001b[0m\u001b[1;33m)\u001b[0m\u001b[1;33m\u001b[0m\u001b[0m\n\u001b[1;32m   1388\u001b[0m             \u001b[0mcache\u001b[0m\u001b[1;33m[\u001b[0m\u001b[0mitem\u001b[0m\u001b[1;33m]\u001b[0m \u001b[1;33m=\u001b[0m \u001b[0mres\u001b[0m\u001b[1;33m\u001b[0m\u001b[0m\n",
      "\u001b[0;32mC:\\Anaconda3\\envs\\tf35\\lib\\site-packages\\pandas\\core\\internals.py\u001b[0m in \u001b[0;36mget\u001b[0;34m(self, item, fastpath)\u001b[0m\n\u001b[1;32m   3539\u001b[0m \u001b[1;33m\u001b[0m\u001b[0m\n\u001b[1;32m   3540\u001b[0m             \u001b[1;32mif\u001b[0m \u001b[1;32mnot\u001b[0m \u001b[0misnull\u001b[0m\u001b[1;33m(\u001b[0m\u001b[0mitem\u001b[0m\u001b[1;33m)\u001b[0m\u001b[1;33m:\u001b[0m\u001b[1;33m\u001b[0m\u001b[0m\n\u001b[0;32m-> 3541\u001b[0;31m                 \u001b[0mloc\u001b[0m \u001b[1;33m=\u001b[0m \u001b[0mself\u001b[0m\u001b[1;33m.\u001b[0m\u001b[0mitems\u001b[0m\u001b[1;33m.\u001b[0m\u001b[0mget_loc\u001b[0m\u001b[1;33m(\u001b[0m\u001b[0mitem\u001b[0m\u001b[1;33m)\u001b[0m\u001b[1;33m\u001b[0m\u001b[0m\n\u001b[0m\u001b[1;32m   3542\u001b[0m             \u001b[1;32melse\u001b[0m\u001b[1;33m:\u001b[0m\u001b[1;33m\u001b[0m\u001b[0m\n\u001b[1;32m   3543\u001b[0m                 \u001b[0mindexer\u001b[0m \u001b[1;33m=\u001b[0m \u001b[0mnp\u001b[0m\u001b[1;33m.\u001b[0m\u001b[0marange\u001b[0m\u001b[1;33m(\u001b[0m\u001b[0mlen\u001b[0m\u001b[1;33m(\u001b[0m\u001b[0mself\u001b[0m\u001b[1;33m.\u001b[0m\u001b[0mitems\u001b[0m\u001b[1;33m)\u001b[0m\u001b[1;33m)\u001b[0m\u001b[1;33m[\u001b[0m\u001b[0misnull\u001b[0m\u001b[1;33m(\u001b[0m\u001b[0mself\u001b[0m\u001b[1;33m.\u001b[0m\u001b[0mitems\u001b[0m\u001b[1;33m)\u001b[0m\u001b[1;33m]\u001b[0m\u001b[1;33m\u001b[0m\u001b[0m\n",
      "\u001b[0;32mC:\\Anaconda3\\envs\\tf35\\lib\\site-packages\\pandas\\indexes\\base.py\u001b[0m in \u001b[0;36mget_loc\u001b[0;34m(self, key, method, tolerance)\u001b[0m\n\u001b[1;32m   2134\u001b[0m                 \u001b[1;32mreturn\u001b[0m \u001b[0mself\u001b[0m\u001b[1;33m.\u001b[0m\u001b[0m_engine\u001b[0m\u001b[1;33m.\u001b[0m\u001b[0mget_loc\u001b[0m\u001b[1;33m(\u001b[0m\u001b[0mkey\u001b[0m\u001b[1;33m)\u001b[0m\u001b[1;33m\u001b[0m\u001b[0m\n\u001b[1;32m   2135\u001b[0m             \u001b[1;32mexcept\u001b[0m \u001b[0mKeyError\u001b[0m\u001b[1;33m:\u001b[0m\u001b[1;33m\u001b[0m\u001b[0m\n\u001b[0;32m-> 2136\u001b[0;31m                 \u001b[1;32mreturn\u001b[0m \u001b[0mself\u001b[0m\u001b[1;33m.\u001b[0m\u001b[0m_engine\u001b[0m\u001b[1;33m.\u001b[0m\u001b[0mget_loc\u001b[0m\u001b[1;33m(\u001b[0m\u001b[0mself\u001b[0m\u001b[1;33m.\u001b[0m\u001b[0m_maybe_cast_indexer\u001b[0m\u001b[1;33m(\u001b[0m\u001b[0mkey\u001b[0m\u001b[1;33m)\u001b[0m\u001b[1;33m)\u001b[0m\u001b[1;33m\u001b[0m\u001b[0m\n\u001b[0m\u001b[1;32m   2137\u001b[0m \u001b[1;33m\u001b[0m\u001b[0m\n\u001b[1;32m   2138\u001b[0m         \u001b[0mindexer\u001b[0m \u001b[1;33m=\u001b[0m \u001b[0mself\u001b[0m\u001b[1;33m.\u001b[0m\u001b[0mget_indexer\u001b[0m\u001b[1;33m(\u001b[0m\u001b[1;33m[\u001b[0m\u001b[0mkey\u001b[0m\u001b[1;33m]\u001b[0m\u001b[1;33m,\u001b[0m \u001b[0mmethod\u001b[0m\u001b[1;33m=\u001b[0m\u001b[0mmethod\u001b[0m\u001b[1;33m,\u001b[0m \u001b[0mtolerance\u001b[0m\u001b[1;33m=\u001b[0m\u001b[0mtolerance\u001b[0m\u001b[1;33m)\u001b[0m\u001b[1;33m\u001b[0m\u001b[0m\n",
      "\u001b[0;32mpandas\\index.pyx\u001b[0m in \u001b[0;36mpandas.index.IndexEngine.get_loc (pandas\\index.c:4443)\u001b[0;34m()\u001b[0m\n",
      "\u001b[0;32mpandas\\index.pyx\u001b[0m in \u001b[0;36mpandas.index.IndexEngine.get_loc (pandas\\index.c:4289)\u001b[0;34m()\u001b[0m\n",
      "\u001b[0;32mpandas\\src\\hashtable_class_helper.pxi\u001b[0m in \u001b[0;36mpandas.hashtable.PyObjectHashTable.get_item (pandas\\hashtable.c:13733)\u001b[0;34m()\u001b[0m\n",
      "\u001b[0;32mpandas\\src\\hashtable_class_helper.pxi\u001b[0m in \u001b[0;36mpandas.hashtable.PyObjectHashTable.get_item (pandas\\hashtable.c:13687)\u001b[0;34m()\u001b[0m\n",
      "\u001b[0;31mKeyError\u001b[0m: 'avg_imp'"
     ]
    }
   ],
   "source": [
    "pd.DataFrame([dict(list(y[0].items()) + [('data', x)]) for x, y in zip(df1['data'], df1['avg_imp'])])"
   ]
  },
  {
   "cell_type": "code",
   "execution_count": 65,
   "metadata": {
    "collapsed": false
   },
   "outputs": [
    {
     "data": {
      "text/plain": [
       "461             keras__regr_ret.pkl\n",
       "465             keras__regr_ret.pkl\n",
       "472             keras__regr_ret.pkl\n",
       "473             keras__regr_ret.pkl\n",
       "476             keras__regr_ret.pkl\n",
       "482             keras__regr_ret.pkl\n",
       "494             keras__regr_ret.pkl\n",
       "498             keras__regr_ret.pkl\n",
       "530          keras__regr_ret_fs.pkl\n",
       "533          keras__regr_ret_fs.pkl\n",
       "534          keras__regr_ret_fs.pkl\n",
       "537          keras__regr_ret_fs.pkl\n",
       "539          keras__regr_ret_fs.pkl\n",
       "541          keras__regr_ret_fs.pkl\n",
       "547    keras__regr_ret_fs_part2.pkl\n",
       "548    keras__regr_ret_fs_part2.pkl\n",
       "549    keras__regr_ret_fs_part2.pkl\n",
       "550    keras__regr_ret_fs_part2.pkl\n",
       "551    keras__regr_ret_fs_part2.pkl\n",
       "552    keras__regr_ret_fs_part2.pkl\n",
       "553    keras__regr_ret_fs_part2.pkl\n",
       "554    keras__regr_ret_fs_part2.pkl\n",
       "555    keras__regr_ret_fs_part2.pkl\n",
       "556    keras__regr_ret_fs_part2.pkl\n",
       "557    keras__regr_ret_fs_part2.pkl\n",
       "558    keras__regr_ret_fs_part2.pkl\n",
       "559    keras__regr_ret_fs_part2.pkl\n",
       "560    keras__regr_ret_fs_part2.pkl\n",
       "Name: file, dtype: object"
      ]
     },
     "execution_count": 65,
     "metadata": {},
     "output_type": "execute_result"
    }
   ],
   "source": [
    "df1['file']"
   ]
  },
  {
   "cell_type": "code",
   "execution_count": 17,
   "metadata": {
    "collapsed": false
   },
   "outputs": [
    {
     "name": "stdout",
     "output_type": "stream",
     "text": [
      "['BMLM', 'GSET', 'SCDS', 'BMLE', 'CCIB', 'JPGP', 'GSMX', 'MSTT', 'CSDE', 'CSEO', 'EBNP', 'JCTT', 'MBNP', 'MSTX', 'Barc', 'Citi', 'Deut', 'HSCX', 'SocG']\n"
     ]
    }
   ],
   "source": [
    "print(list(df1['data'][df1['dim'] > 30]))"
   ]
  },
  {
   "cell_type": "code",
   "execution_count": 19,
   "metadata": {
    "collapsed": false
   },
   "outputs": [
    {
     "data": {
      "text/html": [
       "<div>\n",
       "<table border=\"1\" class=\"dataframe\">\n",
       "  <thead>\n",
       "    <tr style=\"text-align: right;\">\n",
       "      <th></th>\n",
       "      <th>data</th>\n",
       "      <th>dim</th>\n",
       "    </tr>\n",
       "  </thead>\n",
       "  <tbody>\n",
       "    <tr>\n",
       "      <th>471</th>\n",
       "      <td>BMLM</td>\n",
       "      <td>64.0</td>\n",
       "    </tr>\n",
       "    <tr>\n",
       "      <th>475</th>\n",
       "      <td>GSET</td>\n",
       "      <td>64.0</td>\n",
       "    </tr>\n",
       "    <tr>\n",
       "      <th>482</th>\n",
       "      <td>SCDS</td>\n",
       "      <td>64.0</td>\n",
       "    </tr>\n",
       "    <tr>\n",
       "      <th>483</th>\n",
       "      <td>BMLE</td>\n",
       "      <td>64.0</td>\n",
       "    </tr>\n",
       "    <tr>\n",
       "      <th>486</th>\n",
       "      <td>CCIB</td>\n",
       "      <td>40.0</td>\n",
       "    </tr>\n",
       "    <tr>\n",
       "      <th>492</th>\n",
       "      <td>JPGP</td>\n",
       "      <td>64.0</td>\n",
       "    </tr>\n",
       "    <tr>\n",
       "      <th>504</th>\n",
       "      <td>GSMX</td>\n",
       "      <td>64.0</td>\n",
       "    </tr>\n",
       "    <tr>\n",
       "      <th>508</th>\n",
       "      <td>MSTT</td>\n",
       "      <td>64.0</td>\n",
       "    </tr>\n",
       "    <tr>\n",
       "      <th>540</th>\n",
       "      <td>CSDE</td>\n",
       "      <td>64.0</td>\n",
       "    </tr>\n",
       "    <tr>\n",
       "      <th>543</th>\n",
       "      <td>CSEO</td>\n",
       "      <td>64.0</td>\n",
       "    </tr>\n",
       "    <tr>\n",
       "      <th>544</th>\n",
       "      <td>EBNP</td>\n",
       "      <td>56.0</td>\n",
       "    </tr>\n",
       "    <tr>\n",
       "      <th>547</th>\n",
       "      <td>JCTT</td>\n",
       "      <td>64.0</td>\n",
       "    </tr>\n",
       "    <tr>\n",
       "      <th>549</th>\n",
       "      <td>MBNP</td>\n",
       "      <td>64.0</td>\n",
       "    </tr>\n",
       "    <tr>\n",
       "      <th>551</th>\n",
       "      <td>MSTX</td>\n",
       "      <td>64.0</td>\n",
       "    </tr>\n",
       "    <tr>\n",
       "      <th>557</th>\n",
       "      <td>ABNP</td>\n",
       "      <td>16.0</td>\n",
       "    </tr>\n",
       "    <tr>\n",
       "      <th>558</th>\n",
       "      <td>BXCY</td>\n",
       "      <td>16.0</td>\n",
       "    </tr>\n",
       "    <tr>\n",
       "      <th>559</th>\n",
       "      <td>Barc</td>\n",
       "      <td>56.0</td>\n",
       "    </tr>\n",
       "    <tr>\n",
       "      <th>560</th>\n",
       "      <td>CCGB</td>\n",
       "      <td>16.0</td>\n",
       "    </tr>\n",
       "    <tr>\n",
       "      <th>561</th>\n",
       "      <td>CCGC</td>\n",
       "      <td>16.0</td>\n",
       "    </tr>\n",
       "    <tr>\n",
       "      <th>563</th>\n",
       "      <td>CMAr</td>\n",
       "      <td>8.0</td>\n",
       "    </tr>\n",
       "    <tr>\n",
       "      <th>564</th>\n",
       "      <td>Citi</td>\n",
       "      <td>64.0</td>\n",
       "    </tr>\n",
       "    <tr>\n",
       "      <th>565</th>\n",
       "      <td>Deut</td>\n",
       "      <td>64.0</td>\n",
       "    </tr>\n",
       "    <tr>\n",
       "      <th>566</th>\n",
       "      <td>GSOL</td>\n",
       "      <td>16.0</td>\n",
       "    </tr>\n",
       "    <tr>\n",
       "      <th>567</th>\n",
       "      <td>HSCX</td>\n",
       "      <td>64.0</td>\n",
       "    </tr>\n",
       "    <tr>\n",
       "      <th>568</th>\n",
       "      <td>SGMI</td>\n",
       "      <td>16.0</td>\n",
       "    </tr>\n",
       "    <tr>\n",
       "      <th>569</th>\n",
       "      <td>SocG</td>\n",
       "      <td>64.0</td>\n",
       "    </tr>\n",
       "    <tr>\n",
       "      <th>570</th>\n",
       "      <td>UBCD</td>\n",
       "      <td>16.0</td>\n",
       "    </tr>\n",
       "    <tr>\n",
       "      <th>590</th>\n",
       "      <td>CGCX</td>\n",
       "      <td>16.0</td>\n",
       "    </tr>\n",
       "  </tbody>\n",
       "</table>\n",
       "</div>"
      ],
      "text/plain": [
       "     data   dim\n",
       "471  BMLM  64.0\n",
       "475  GSET  64.0\n",
       "482  SCDS  64.0\n",
       "483  BMLE  64.0\n",
       "486  CCIB  40.0\n",
       "492  JPGP  64.0\n",
       "504  GSMX  64.0\n",
       "508  MSTT  64.0\n",
       "540  CSDE  64.0\n",
       "543  CSEO  64.0\n",
       "544  EBNP  56.0\n",
       "547  JCTT  64.0\n",
       "549  MBNP  64.0\n",
       "551  MSTX  64.0\n",
       "557  ABNP  16.0\n",
       "558  BXCY  16.0\n",
       "559  Barc  56.0\n",
       "560  CCGB  16.0\n",
       "561  CCGC  16.0\n",
       "563  CMAr   8.0\n",
       "564  Citi  64.0\n",
       "565  Deut  64.0\n",
       "566  GSOL  16.0\n",
       "567  HSCX  64.0\n",
       "568  SGMI  16.0\n",
       "569  SocG  64.0\n",
       "570  UBCD  16.0\n",
       "590  CGCX  16.0"
      ]
     },
     "execution_count": 19,
     "metadata": {},
     "output_type": "execute_result"
    }
   ],
   "source": [
    "df1[['data', 'dim']]"
   ]
  },
  {
   "cell_type": "code",
   "execution_count": null,
   "metadata": {
    "collapsed": true
   },
   "outputs": [],
   "source": []
  }
 ],
 "metadata": {
  "anaconda-cloud": {},
  "kernelspec": {
   "display_name": "Python [default]",
   "language": "python",
   "name": "python3"
  },
  "language_info": {
   "codemirror_mode": {
    "name": "ipython",
    "version": 3
   },
   "file_extension": ".py",
   "mimetype": "text/x-python",
   "name": "python",
   "nbconvert_exporter": "python",
   "pygments_lexer": "ipython3",
   "version": "3.5.2"
  }
 },
 "nbformat": 4,
 "nbformat_minor": 2
}

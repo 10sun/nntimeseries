{
 "cells": [
  {
   "cell_type": "code",
   "execution_count": 134,
   "metadata": {
    "collapsed": false
   },
   "outputs": [],
   "source": [
    "from __init__ import *\n",
    "from raw_quote import utils\n",
    "% matplotlib inline"
   ]
  },
  {
   "cell_type": "code",
   "execution_count": 161,
   "metadata": {
    "collapsed": false
   },
   "outputs": [],
   "source": [
    "key = 'value_importance'\n",
    "mindate = '2017-01-12'\n",
    "files = [f for f in os.listdir('results') if (key in f) and ('.pkl' in f)]\n",
    "read_tables = []\n",
    "for f in files:\n",
    "    try:\n",
    "        df = pd.read_pickle('results/' + f)\n",
    "        df = df[df['dt'] > pd.Timestamp(mindate)]\n",
    "        df['epochs'] = df['loss'].apply(lambda x: len(x))\n",
    "        df = df[df['epochs'] > 5]\n",
    "        if df.shape[0] == 0:\n",
    "            continue\n",
    "        df['objective'] = 'regr' if ('regr' in f) else 'class'\n",
    "        if 'returns' not in df.columns:\n",
    "            df['returns'] = ('ret' in f)\n",
    "        elif 'both' in f:\n",
    "            df = df[df['returns']] ###### screwed up classification loss in 'both'\n",
    "        if 'full_shift' not in df.columns:\n",
    "            df['full_shift'] = ('fs' in f)\n",
    "        df['NeX'] = ('NeX' in f)\n",
    "        if 'batch_size' not in df.columns:\n",
    "            df['batch_size'] = 64\n",
    "        if 'channels' not in df.columns:\n",
    "            df['channels'] = 1\n",
    "        else:\n",
    "            df.loc[np.isnan(df['channels']), 'channels'] = 1\n",
    "        if 'benchmark' in f:\n",
    "            df['model'] = 'lr'\n",
    "        elif '_cnn_' in f:\n",
    "            df['model'] = 'cnn'\n",
    "        elif '_gru_' in f:\n",
    "            df['model'] = 'gru'\n",
    "        elif '_lstm_' in f:\n",
    "            df['model'] = 'lstm'\n",
    "        elif 'value_importance3' in f:\n",
    "            df['model'] = 'so'\n",
    "        else:\n",
    "            df['model'] = 'so'\n",
    "        keys, funcs, names = [], [], []\n",
    "        df['best_mse'] = np.NaN\n",
    "        df['best_acc'] = np.NaN\n",
    "        if 'class' in f:\n",
    "            if 'val_main_output_acc' in df.columns:\n",
    "                keys.append('val_main_output_acc')\n",
    "                funcs.append(np.nanmax)\n",
    "                names.append('best_acc')\n",
    "            elif 'val_acc' in df.columns:\n",
    "                keys.append('val_acc')\n",
    "                funcs.append(np.nanmax)\n",
    "                names.append('best_acc')\n",
    "        if 'regr' in f:\n",
    "            if 'val_main_output_loss' in df.columns:\n",
    "                keys.append('val_main_output_loss')\n",
    "                funcs.append(np.nanmin)\n",
    "                names.append('best_mse')\n",
    "            elif 'val_loss' in df.columns:\n",
    "                keys.append('val_loss')\n",
    "                funcs.append(np.nanmin)        \n",
    "                names.append('best_mse')\n",
    "        for k, func, n in zip(keys, funcs, names):\n",
    "            df[n] = df[k].apply(lambda x: func(x))\n",
    "        df['file'] = ''.join(f.split(key))\n",
    "        read_tables.append(df.copy())\n",
    "    except Exception as e:\n",
    "        print(e)\n",
    "all_results = pd.concat(read_tables)  \n",
    "all_results.reset_index(inplace=True)\n",
    "                \n",
    "def get_pivot(setting, df, valcols=[]):\n",
    "    if setting['objective'] == 'class':\n",
    "        best = 'best_acc'\n",
    "        func = max\n",
    "    else:\n",
    "        best = 'best_mse'\n",
    "        func = min\n",
    "    df0 = df.copy()\n",
    "    for k, v in setting.items():\n",
    "        df0 = df0[df0[k] == v]\n",
    "    df0 = df0[df0.groupby(['data', 'model'])[best].transform(func) == df0[best]]\n",
    "    pivs = [df0.pivot(index='data', columns='model', values=best)]\n",
    "    for col in valcols:\n",
    "        piv = df0.pivot(index='data', columns='model', values=col)\n",
    "        piv.rename(columns=dict([(c, col[:3] + '_' + c) for c in piv.columns]), inplace=True)\n",
    "        pivs.append(piv.copy())\n",
    "    return df0, pd.concat(pivs, axis=1)"
   ]
  },
  {
   "cell_type": "code",
   "execution_count": 162,
   "metadata": {
    "collapsed": false
   },
   "outputs": [],
   "source": [
    "pivots = []\n",
    "for obj in ['regr', 'class']:\n",
    "    setting = dict(\n",
    "        NeX = False,\n",
    "        objective = obj,\n",
    "        returns = True,\n",
    "        batch_size = 8,\n",
    "    )\n",
    "\n",
    "    df0, pivot = get_pivot(setting, all_results, [])\n",
    "    pivots.append(pivot.rename(columns=dict([(c, c + '_' + obj) for c in pivot.columns if c not in ['model', 'data']])))\n",
    "pivs = pd.concat(pivots, axis=1)"
   ]
  },
  {
   "cell_type": "code",
   "execution_count": 167,
   "metadata": {
    "collapsed": false
   },
   "outputs": [
    {
     "data": {
      "text/html": [
       "<div>\n",
       "<table border=\"1\" class=\"dataframe\">\n",
       "  <thead>\n",
       "    <tr style=\"text-align: right;\">\n",
       "      <th>model</th>\n",
       "      <th>cnn_regr</th>\n",
       "      <th>lr_regr</th>\n",
       "      <th>so_regr</th>\n",
       "      <th>cnn_class</th>\n",
       "      <th>lr_class</th>\n",
       "      <th>so_class</th>\n",
       "    </tr>\n",
       "    <tr>\n",
       "      <th>data</th>\n",
       "      <th></th>\n",
       "      <th></th>\n",
       "      <th></th>\n",
       "      <th></th>\n",
       "      <th></th>\n",
       "      <th></th>\n",
       "    </tr>\n",
       "  </thead>\n",
       "  <tbody>\n",
       "    <tr>\n",
       "      <th>BMLM</th>\n",
       "      <td>0.009551</td>\n",
       "      <td>0.011769</td>\n",
       "      <td>0.008941</td>\n",
       "      <td>0.948120</td>\n",
       "      <td>0.896334</td>\n",
       "      <td>0.956496</td>\n",
       "    </tr>\n",
       "    <tr>\n",
       "      <th>GSET</th>\n",
       "      <td>0.239446</td>\n",
       "      <td>0.268212</td>\n",
       "      <td>0.252570</td>\n",
       "      <td>0.547251</td>\n",
       "      <td>0.561593</td>\n",
       "      <td>0.590421</td>\n",
       "    </tr>\n",
       "    <tr>\n",
       "      <th>SCDS</th>\n",
       "      <td>0.088186</td>\n",
       "      <td>0.124367</td>\n",
       "      <td>0.084814</td>\n",
       "      <td>0.500597</td>\n",
       "      <td>0.594311</td>\n",
       "      <td>0.622685</td>\n",
       "    </tr>\n",
       "    <tr>\n",
       "      <th>BMLE</th>\n",
       "      <td>0.369369</td>\n",
       "      <td>0.358594</td>\n",
       "      <td>0.337039</td>\n",
       "      <td>0.608772</td>\n",
       "      <td>0.645356</td>\n",
       "      <td>0.662801</td>\n",
       "    </tr>\n",
       "    <tr>\n",
       "      <th>JPGP</th>\n",
       "      <td>0.102793</td>\n",
       "      <td>0.177789</td>\n",
       "      <td>0.097481</td>\n",
       "      <td>0.594001</td>\n",
       "      <td>0.602568</td>\n",
       "      <td>0.600802</td>\n",
       "    </tr>\n",
       "    <tr>\n",
       "      <th>GSMX</th>\n",
       "      <td>0.010123</td>\n",
       "      <td>0.010765</td>\n",
       "      <td>0.007669</td>\n",
       "      <td>0.978976</td>\n",
       "      <td>0.923420</td>\n",
       "      <td>0.981100</td>\n",
       "    </tr>\n",
       "    <tr>\n",
       "      <th>MSTT</th>\n",
       "      <td>0.265488</td>\n",
       "      <td>0.249157</td>\n",
       "      <td>0.238991</td>\n",
       "      <td>NaN</td>\n",
       "      <td>0.631777</td>\n",
       "      <td>0.655069</td>\n",
       "    </tr>\n",
       "    <tr>\n",
       "      <th>CSDE</th>\n",
       "      <td>0.143828</td>\n",
       "      <td>0.116400</td>\n",
       "      <td>0.102873</td>\n",
       "      <td>NaN</td>\n",
       "      <td>0.877577</td>\n",
       "      <td>0.946664</td>\n",
       "    </tr>\n",
       "    <tr>\n",
       "      <th>CSEO</th>\n",
       "      <td>0.134683</td>\n",
       "      <td>0.100606</td>\n",
       "      <td>0.092232</td>\n",
       "      <td>NaN</td>\n",
       "      <td>0.879821</td>\n",
       "      <td>0.945900</td>\n",
       "    </tr>\n",
       "    <tr>\n",
       "      <th>JCTT</th>\n",
       "      <td>0.591918</td>\n",
       "      <td>0.608728</td>\n",
       "      <td>0.569923</td>\n",
       "      <td>NaN</td>\n",
       "      <td>0.613736</td>\n",
       "      <td>0.620919</td>\n",
       "    </tr>\n",
       "    <tr>\n",
       "      <th>MBNP</th>\n",
       "      <td>1.034463</td>\n",
       "      <td>1.212178</td>\n",
       "      <td>0.889741</td>\n",
       "      <td>NaN</td>\n",
       "      <td>0.640679</td>\n",
       "      <td>0.652826</td>\n",
       "    </tr>\n",
       "    <tr>\n",
       "      <th>MSTX</th>\n",
       "      <td>0.460055</td>\n",
       "      <td>0.413691</td>\n",
       "      <td>0.381006</td>\n",
       "      <td>NaN</td>\n",
       "      <td>0.619082</td>\n",
       "      <td>0.620156</td>\n",
       "    </tr>\n",
       "    <tr>\n",
       "      <th>Citi</th>\n",
       "      <td>0.682845</td>\n",
       "      <td>0.540201</td>\n",
       "      <td>0.554279</td>\n",
       "      <td>NaN</td>\n",
       "      <td>0.689027</td>\n",
       "      <td>0.691724</td>\n",
       "    </tr>\n",
       "    <tr>\n",
       "      <th>HSCX</th>\n",
       "      <td>0.097104</td>\n",
       "      <td>0.137786</td>\n",
       "      <td>0.086213</td>\n",
       "      <td>0.509235</td>\n",
       "      <td>0.642325</td>\n",
       "      <td>0.623234</td>\n",
       "    </tr>\n",
       "    <tr>\n",
       "      <th>SocG</th>\n",
       "      <td>0.087070</td>\n",
       "      <td>0.080758</td>\n",
       "      <td>0.060064</td>\n",
       "      <td>0.636121</td>\n",
       "      <td>0.670962</td>\n",
       "      <td>0.678336</td>\n",
       "    </tr>\n",
       "  </tbody>\n",
       "</table>\n",
       "</div>"
      ],
      "text/plain": [
       "model  cnn_regr   lr_regr   so_regr  cnn_class  lr_class  so_class\n",
       "data                                                              \n",
       "BMLM   0.009551  0.011769  0.008941   0.948120  0.896334  0.956496\n",
       "GSET   0.239446  0.268212  0.252570   0.547251  0.561593  0.590421\n",
       "SCDS   0.088186  0.124367  0.084814   0.500597  0.594311  0.622685\n",
       "BMLE   0.369369  0.358594  0.337039   0.608772  0.645356  0.662801\n",
       "JPGP   0.102793  0.177789  0.097481   0.594001  0.602568  0.600802\n",
       "GSMX   0.010123  0.010765  0.007669   0.978976  0.923420  0.981100\n",
       "MSTT   0.265488  0.249157  0.238991        NaN  0.631777  0.655069\n",
       "CSDE   0.143828  0.116400  0.102873        NaN  0.877577  0.946664\n",
       "CSEO   0.134683  0.100606  0.092232        NaN  0.879821  0.945900\n",
       "JCTT   0.591918  0.608728  0.569923        NaN  0.613736  0.620919\n",
       "MBNP   1.034463  1.212178  0.889741        NaN  0.640679  0.652826\n",
       "MSTX   0.460055  0.413691  0.381006        NaN  0.619082  0.620156\n",
       "Citi   0.682845  0.540201  0.554279        NaN  0.689027  0.691724\n",
       "HSCX   0.097104  0.137786  0.086213   0.509235  0.642325  0.623234\n",
       "SocG   0.087070  0.080758  0.060064   0.636121  0.670962  0.678336"
      ]
     },
     "execution_count": 167,
     "metadata": {},
     "output_type": "execute_result"
    }
   ],
   "source": [
    "sources_to_plot = ['BMLM', 'GSET', 'SCDS', 'BMLE', 'JPGP', 'GSMX', 'MSTT', 'CSDE', 'CSEO', \n",
    "                   'JCTT', 'MBNP', 'MSTX', 'Citi', 'HSCX', 'SocG']\n",
    "pivs.loc[sources_to_plot]"
   ]
  },
  {
   "cell_type": "code",
   "execution_count": 173,
   "metadata": {
    "collapsed": false,
    "scrolled": false
   },
   "outputs": [
    {
     "name": "stderr",
     "output_type": "stream",
     "text": [
      "C:\\Anaconda3\\envs\\tf35\\lib\\site-packages\\ipykernel\\__main__.py:24: VisibleDeprecationWarning: using a non-integer number instead of an integer will result in an error in the future\n"
     ]
    },
    {
     "data": {
      "image/png": "[encoded data removed]",
      "text/plain": [
       "<matplotlib.figure.Figure at 0x22a4c284c88>"
      ]
     },
     "metadata": {},
     "output_type": "display_data"
    }
   ],
   "source": [
    "fig, axes = plt.subplots(1, 2, figsize=(5.5,3.2), sharey=True)\n",
    "fig.tight_layout()\n",
    "pivs = pivs.loc[sources_to_plot]\n",
    "\n",
    "ind = 1\n",
    "pivs.sort_values('so_class' if (ind < 0) else 'so_regr', inplace=True, ascending=True)\n",
    "label_dict = {'lr': 'VAR(100)', 'so': 'Proposed', 'cnn': 'ConvNet'}\n",
    "\n",
    "for ax, obj, xlim, title in zip(axes, ['regr', 'class'][::ind], [(0,.7), (.5, 1)][::ind], \n",
    "                                ['regression MSE', 'classification accuracy'][::ind]):\n",
    "    pivot0 = pivs[[c for c in pivs.columns if obj in c]].copy()\n",
    "    # pivot0 = pivot0[np.isnan(pivot0).sum(axis=1)==0].copy()\n",
    "    pivot0.reset_index(drop=False, inplace=True)\n",
    "\n",
    "    colors = sns.color_palette(\"Set2\", 8)[:3]\n",
    "    for c, color, marker in zip(pivot0.columns[1:], colors, ['v', 'o', '^']):\n",
    "        ax.scatter(pivot0[c], pivot0.index, label=label_dict[c.split('_')[0]], color=color, s=30, alpha=.9, marker=marker)\n",
    "#     \n",
    "    ax.set_yticks(pivot0.index)\n",
    "    ax.set_yticklabels(pivot0['data'])\n",
    "    ax.set_xlim(xlim)\n",
    "    ax.xaxis.grid(False)\n",
    "    ax.set_xlabel(title)\n",
    "axes[(1 - ind)/2].legend(loc=4)\n",
    "# axes[(1 - ind)/2].set_xscale('log')\n",
    "# axes[0].set_xlim(.01,10)\n",
    "fig.subplots_adjust(bottom=0.15, left=.11, top=1.02,right=.975)\n",
    "fig.savefig('plots/results.png')"
   ]
  },
  {
   "cell_type": "code",
   "execution_count": 41,
   "metadata": {
    "collapsed": false
   },
   "outputs": [],
   "source": [
    "df1 = df0[df0['model'] == 'so'].copy()\n",
    "df1 = df1[df1['best_mse'] == df1.groupby('data')['best_mse'].transform(min)]"
   ]
  },
  {
   "cell_type": "code",
   "execution_count": 63,
   "metadata": {
    "collapsed": false
   },
   "outputs": [],
   "source": [
    "from raw_quote import utils, ret_utils, utils2\n",
    "from keras.models import load_model\n",
    "\n",
    "sources = ['ABNP', 'BMLE', 'BMLM', 'BXCY','Barc','CCGB','CCGC','CCIB','CGCX','CMAr','CSDE','CSEO','Citi','Deut',\n",
    "           'EBNP','GSET','GSMX','GSOL','HSCX','JCTT','JPGP','MBNP','MSTT','MSTX','SCDS','SGMI','SocG','UBCD']\n",
    "cols = sources + ['dir', 'price', 'time'] + ['imps', 'shifts']\n",
    "\n",
    "def get_layer_no(nn, name):\n",
    "    for n, l in enumerate(nn.layers):\n",
    "        if l.name == name:\n",
    "            print(('layer no for ', l.name, name, n))\n",
    "            return n\n",
    "    return None\n",
    "\n",
    "def get_info(source_id, df, sources=sources, cols=cols, steps=None):\n",
    "    with tf.Session() as sess:\n",
    "        nn = load_model(df['hdf5'][source_id])\n",
    "        source = df.loc[source_id, 'data']\n",
    "\n",
    "        X, y, n_train, n_all, div, Xmeans, Xstds = utils2.getXy2('preprocessed/raw_%s.pickle' % source, return_stats=True)  \n",
    "        df.loc[source_id, 'dim'] = X.shape[0]\n",
    "        if steps is None:\n",
    "            steps = n_train\n",
    "\n",
    "        imp = Model(input=[nn.layers[get_layer_no(nn, 'importance_input')].input], \n",
    "                    output=[nn.layers[get_layer_no(nn, 'softmax')].output]) # softmax\n",
    "        shift_input = 'shift_input'\n",
    "        shift_no = get_layer_no(nn, 'shift_input')\n",
    "        if shift_no is None:\n",
    "            shift_no = get_layer_no(nn, 'importance_input')\n",
    "            shift_input = 'importance_input'\n",
    "        shift = Model(input=[nn.layers[shift_no].input], \n",
    "                      output=[nn.layers[get_layer_no(nn, 'shiftreshape')].output]) #shiftreshape\n",
    "        length = 100\n",
    "        gen = utils2.vgen(X, y, 0, n_train, length, utils2.VI_ret_regr, validator=utils2.validator0)\n",
    "\n",
    "        imps = []\n",
    "        shifts = []\n",
    "        info = []\n",
    "        for i in range(steps):\n",
    "            if np.random.rand() > .1:\n",
    "                continue\n",
    "            xx, _ = next(gen)\n",
    "            info.append(xx['importance_input'][:, :, :])\n",
    "            imps.append(imp.predict_on_batch(xx['importance_input']))\n",
    "            shifts.append(shift.predict_on_batch(xx[shift_input]))\n",
    "            if i%5000 == 0:\n",
    "                print('steps %d/%d' % (i, steps))\n",
    "        \n",
    "        dim = info[0].shape[0]\n",
    "        \n",
    "        info2 = [np.concatenate([inf, i.reshape(dim, 100, 1), sh.reshape(dim, 100, 1)], axis=2) for inf, i, sh in zip(info, imps, shifts)]\n",
    "        info2 = np.concatenate(np.concatenate(info2, axis=1), axis=0)\n",
    "        info2[:, :28] = (info2[:, :28] > 0)\n",
    "\n",
    "        info3 = pd.DataFrame(info2, columns=cols)\n",
    "        info3['source'] = np.nan\n",
    "        for s in sources:\n",
    "            info3.loc[info3[s] > 0, 'source'] = s    \n",
    "        return info3"
   ]
  },
  {
   "cell_type": "code",
   "execution_count": 64,
   "metadata": {
    "collapsed": false
   },
   "outputs": [
    {
     "ename": "KeyboardInterrupt",
     "evalue": "",
     "output_type": "error",
     "traceback": [
      "\u001b[0;31m---------------------------------------------------------------------------\u001b[0m",
      "\u001b[0;31mKeyboardInterrupt\u001b[0m                         Traceback (most recent call last)",
      "\u001b[0;32m<ipython-input-64-7f06efe79776>\u001b[0m in \u001b[0;36m<module>\u001b[0;34m()\u001b[0m\n\u001b[1;32m      3\u001b[0m \u001b[1;32mfor\u001b[0m \u001b[0midx\u001b[0m \u001b[1;32min\u001b[0m \u001b[0mdf1\u001b[0m\u001b[1;33m.\u001b[0m\u001b[0mindex\u001b[0m\u001b[1;33m:\u001b[0m\u001b[1;33m\u001b[0m\u001b[0m\n\u001b[1;32m      4\u001b[0m     \u001b[1;32mtry\u001b[0m\u001b[1;33m:\u001b[0m\u001b[1;33m\u001b[0m\u001b[0m\n\u001b[0;32m----> 5\u001b[0;31m         \u001b[0minfo\u001b[0m \u001b[1;33m=\u001b[0m \u001b[0mget_info\u001b[0m\u001b[1;33m(\u001b[0m\u001b[0midx\u001b[0m\u001b[1;33m,\u001b[0m \u001b[0mdf1\u001b[0m\u001b[1;33m)\u001b[0m\u001b[1;33m\u001b[0m\u001b[0m\n\u001b[0m\u001b[1;32m      6\u001b[0m         \u001b[0mprint\u001b[0m\u001b[1;33m(\u001b[0m\u001b[0mdf1\u001b[0m\u001b[1;33m[\u001b[0m\u001b[1;34m'data'\u001b[0m\u001b[1;33m]\u001b[0m\u001b[1;33m[\u001b[0m\u001b[0midx\u001b[0m\u001b[1;33m]\u001b[0m\u001b[1;33m)\u001b[0m\u001b[1;33m\u001b[0m\u001b[0m\n\u001b[1;32m      7\u001b[0m         \u001b[0mhigh_imp\u001b[0m \u001b[1;33m=\u001b[0m \u001b[0minfo\u001b[0m\u001b[1;33m.\u001b[0m\u001b[0mgroupby\u001b[0m\u001b[1;33m(\u001b[0m\u001b[1;34m'source'\u001b[0m\u001b[1;33m)\u001b[0m\u001b[1;33m[\u001b[0m\u001b[1;34m'imps'\u001b[0m\u001b[1;33m]\u001b[0m\u001b[1;33m.\u001b[0m\u001b[0mmean\u001b[0m\u001b[1;33m(\u001b[0m\u001b[1;33m)\u001b[0m\u001b[1;33m.\u001b[0m\u001b[0msort_values\u001b[0m\u001b[1;33m(\u001b[0m\u001b[0mascending\u001b[0m\u001b[1;33m=\u001b[0m\u001b[1;32mFalse\u001b[0m\u001b[1;33m)\u001b[0m\u001b[1;33m\u001b[0m\u001b[0m\n",
      "\u001b[0;32m<ipython-input-63-443e6218b9ab>\u001b[0m in \u001b[0;36mget_info\u001b[0;34m(source_id, df, sources, cols, steps)\u001b[0m\n\u001b[1;32m     15\u001b[0m \u001b[1;32mdef\u001b[0m \u001b[0mget_info\u001b[0m\u001b[1;33m(\u001b[0m\u001b[0msource_id\u001b[0m\u001b[1;33m,\u001b[0m \u001b[0mdf\u001b[0m\u001b[1;33m,\u001b[0m \u001b[0msources\u001b[0m\u001b[1;33m=\u001b[0m\u001b[0msources\u001b[0m\u001b[1;33m,\u001b[0m \u001b[0mcols\u001b[0m\u001b[1;33m=\u001b[0m\u001b[0mcols\u001b[0m\u001b[1;33m,\u001b[0m \u001b[0msteps\u001b[0m\u001b[1;33m=\u001b[0m\u001b[1;32mNone\u001b[0m\u001b[1;33m)\u001b[0m\u001b[1;33m:\u001b[0m\u001b[1;33m\u001b[0m\u001b[0m\n\u001b[1;32m     16\u001b[0m     \u001b[1;32mwith\u001b[0m \u001b[0mtf\u001b[0m\u001b[1;33m.\u001b[0m\u001b[0mSession\u001b[0m\u001b[1;33m(\u001b[0m\u001b[1;33m)\u001b[0m \u001b[1;32mas\u001b[0m \u001b[0msess\u001b[0m\u001b[1;33m:\u001b[0m\u001b[1;33m\u001b[0m\u001b[0m\n\u001b[0;32m---> 17\u001b[0;31m         \u001b[0mnn\u001b[0m \u001b[1;33m=\u001b[0m \u001b[0mload_model\u001b[0m\u001b[1;33m(\u001b[0m\u001b[0mdf\u001b[0m\u001b[1;33m[\u001b[0m\u001b[1;34m'hdf5'\u001b[0m\u001b[1;33m]\u001b[0m\u001b[1;33m[\u001b[0m\u001b[0msource_id\u001b[0m\u001b[1;33m]\u001b[0m\u001b[1;33m)\u001b[0m\u001b[1;33m\u001b[0m\u001b[0m\n\u001b[0m\u001b[1;32m     18\u001b[0m         \u001b[0msource\u001b[0m \u001b[1;33m=\u001b[0m \u001b[0mdf\u001b[0m\u001b[1;33m.\u001b[0m\u001b[0mloc\u001b[0m\u001b[1;33m[\u001b[0m\u001b[0msource_id\u001b[0m\u001b[1;33m,\u001b[0m \u001b[1;34m'data'\u001b[0m\u001b[1;33m]\u001b[0m\u001b[1;33m\u001b[0m\u001b[0m\n\u001b[1;32m     19\u001b[0m \u001b[1;33m\u001b[0m\u001b[0m\n",
      "\u001b[0;32mC:\\Anaconda3\\envs\\tf35\\lib\\site-packages\\keras\\models.py\u001b[0m in \u001b[0;36mload_model\u001b[0;34m(filepath, custom_objects)\u001b[0m\n\u001b[1;32m    141\u001b[0m \u001b[1;33m\u001b[0m\u001b[0m\n\u001b[1;32m    142\u001b[0m     \u001b[1;31m# set weights\u001b[0m\u001b[1;33m\u001b[0m\u001b[1;33m\u001b[0m\u001b[0m\n\u001b[0;32m--> 143\u001b[0;31m     \u001b[0mmodel\u001b[0m\u001b[1;33m.\u001b[0m\u001b[0mload_weights_from_hdf5_group\u001b[0m\u001b[1;33m(\u001b[0m\u001b[0mf\u001b[0m\u001b[1;33m[\u001b[0m\u001b[1;34m'model_weights'\u001b[0m\u001b[1;33m]\u001b[0m\u001b[1;33m)\u001b[0m\u001b[1;33m\u001b[0m\u001b[0m\n\u001b[0m\u001b[1;32m    144\u001b[0m \u001b[1;33m\u001b[0m\u001b[0m\n\u001b[1;32m    145\u001b[0m     \u001b[1;31m# instantiate optimizer\u001b[0m\u001b[1;33m\u001b[0m\u001b[1;33m\u001b[0m\u001b[0m\n",
      "\u001b[0;32mC:\\Anaconda3\\envs\\tf35\\lib\\site-packages\\keras\\engine\\topology.py\u001b[0m in \u001b[0;36mload_weights_from_hdf5_group\u001b[0;34m(self, f)\u001b[0m\n\u001b[1;32m   2603\u001b[0m                         \u001b[0mweight_values\u001b[0m\u001b[1;33m[\u001b[0m\u001b[1;36m0\u001b[0m\u001b[1;33m]\u001b[0m \u001b[1;33m=\u001b[0m \u001b[0mw\u001b[0m\u001b[1;33m\u001b[0m\u001b[0m\n\u001b[1;32m   2604\u001b[0m                 \u001b[0mweight_value_tuples\u001b[0m \u001b[1;33m+=\u001b[0m \u001b[0mzip\u001b[0m\u001b[1;33m(\u001b[0m\u001b[0msymbolic_weights\u001b[0m\u001b[1;33m,\u001b[0m \u001b[0mweight_values\u001b[0m\u001b[1;33m)\u001b[0m\u001b[1;33m\u001b[0m\u001b[0m\n\u001b[0;32m-> 2605\u001b[0;31m             \u001b[0mK\u001b[0m\u001b[1;33m.\u001b[0m\u001b[0mbatch_set_value\u001b[0m\u001b[1;33m(\u001b[0m\u001b[0mweight_value_tuples\u001b[0m\u001b[1;33m)\u001b[0m\u001b[1;33m\u001b[0m\u001b[0m\n\u001b[0m\u001b[1;32m   2606\u001b[0m \u001b[1;33m\u001b[0m\u001b[0m\n\u001b[1;32m   2607\u001b[0m     \u001b[1;32mdef\u001b[0m \u001b[0mload_weights_from_hdf5_group_by_name\u001b[0m\u001b[1;33m(\u001b[0m\u001b[0mself\u001b[0m\u001b[1;33m,\u001b[0m \u001b[0mf\u001b[0m\u001b[1;33m)\u001b[0m\u001b[1;33m:\u001b[0m\u001b[1;33m\u001b[0m\u001b[0m\n",
      "\u001b[0;32mC:\\Anaconda3\\envs\\tf35\\lib\\site-packages\\keras\\backend\\tensorflow_backend.py\u001b[0m in \u001b[0;36mbatch_set_value\u001b[0;34m(tuples)\u001b[0m\n\u001b[1;32m   1048\u001b[0m             \u001b[0massign_ops\u001b[0m\u001b[1;33m.\u001b[0m\u001b[0mappend\u001b[0m\u001b[1;33m(\u001b[0m\u001b[0massign_op\u001b[0m\u001b[1;33m)\u001b[0m\u001b[1;33m\u001b[0m\u001b[0m\n\u001b[1;32m   1049\u001b[0m             \u001b[0mfeed_dict\u001b[0m\u001b[1;33m[\u001b[0m\u001b[0massign_placeholder\u001b[0m\u001b[1;33m]\u001b[0m \u001b[1;33m=\u001b[0m \u001b[0mvalue\u001b[0m\u001b[1;33m\u001b[0m\u001b[0m\n\u001b[0;32m-> 1050\u001b[0;31m         \u001b[0mget_session\u001b[0m\u001b[1;33m(\u001b[0m\u001b[1;33m)\u001b[0m\u001b[1;33m.\u001b[0m\u001b[0mrun\u001b[0m\u001b[1;33m(\u001b[0m\u001b[0massign_ops\u001b[0m\u001b[1;33m,\u001b[0m \u001b[0mfeed_dict\u001b[0m\u001b[1;33m=\u001b[0m\u001b[0mfeed_dict\u001b[0m\u001b[1;33m)\u001b[0m\u001b[1;33m\u001b[0m\u001b[0m\n\u001b[0m\u001b[1;32m   1051\u001b[0m \u001b[1;33m\u001b[0m\u001b[0m\n\u001b[1;32m   1052\u001b[0m \u001b[1;33m\u001b[0m\u001b[0m\n",
      "\u001b[0;32mC:\\Anaconda3\\envs\\tf35\\lib\\site-packages\\keras\\backend\\tensorflow_backend.py\u001b[0m in \u001b[0;36mget_session\u001b[0;34m()\u001b[0m\n\u001b[1;32m    109\u001b[0m         \u001b[0msession\u001b[0m \u001b[1;33m=\u001b[0m \u001b[0m_SESSION\u001b[0m\u001b[1;33m\u001b[0m\u001b[0m\n\u001b[1;32m    110\u001b[0m     \u001b[1;32mif\u001b[0m \u001b[1;32mnot\u001b[0m \u001b[0m_MANUAL_VAR_INIT\u001b[0m\u001b[1;33m:\u001b[0m\u001b[1;33m\u001b[0m\u001b[0m\n\u001b[0;32m--> 111\u001b[0;31m         \u001b[0m_initialize_variables\u001b[0m\u001b[1;33m(\u001b[0m\u001b[1;33m)\u001b[0m\u001b[1;33m\u001b[0m\u001b[0m\n\u001b[0m\u001b[1;32m    112\u001b[0m     \u001b[1;32mreturn\u001b[0m \u001b[0msession\u001b[0m\u001b[1;33m\u001b[0m\u001b[0m\n\u001b[1;32m    113\u001b[0m \u001b[1;33m\u001b[0m\u001b[0m\n",
      "\u001b[0;32mC:\\Anaconda3\\envs\\tf35\\lib\\site-packages\\keras\\backend\\tensorflow_backend.py\u001b[0m in \u001b[0;36m_initialize_variables\u001b[0;34m()\u001b[0m\n\u001b[1;32m    198\u001b[0m         \u001b[0msess\u001b[0m \u001b[1;33m=\u001b[0m \u001b[0mget_session\u001b[0m\u001b[1;33m(\u001b[0m\u001b[1;33m)\u001b[0m\u001b[1;33m\u001b[0m\u001b[0m\n\u001b[1;32m    199\u001b[0m         \u001b[1;32mif\u001b[0m \u001b[0mhasattr\u001b[0m\u001b[1;33m(\u001b[0m\u001b[0mtf\u001b[0m\u001b[1;33m,\u001b[0m \u001b[1;34m'variables_initializer'\u001b[0m\u001b[1;33m)\u001b[0m\u001b[1;33m:\u001b[0m\u001b[1;33m\u001b[0m\u001b[0m\n\u001b[0;32m--> 200\u001b[0;31m             \u001b[0msess\u001b[0m\u001b[1;33m.\u001b[0m\u001b[0mrun\u001b[0m\u001b[1;33m(\u001b[0m\u001b[0mtf\u001b[0m\u001b[1;33m.\u001b[0m\u001b[0mvariables_initializer\u001b[0m\u001b[1;33m(\u001b[0m\u001b[0muninitialized_variables\u001b[0m\u001b[1;33m)\u001b[0m\u001b[1;33m)\u001b[0m\u001b[1;33m\u001b[0m\u001b[0m\n\u001b[0m\u001b[1;32m    201\u001b[0m         \u001b[1;32melse\u001b[0m\u001b[1;33m:\u001b[0m\u001b[1;33m\u001b[0m\u001b[0m\n\u001b[1;32m    202\u001b[0m             \u001b[0msess\u001b[0m\u001b[1;33m.\u001b[0m\u001b[0mrun\u001b[0m\u001b[1;33m(\u001b[0m\u001b[0mtf\u001b[0m\u001b[1;33m.\u001b[0m\u001b[0minitialize_variables\u001b[0m\u001b[1;33m(\u001b[0m\u001b[0muninitialized_variables\u001b[0m\u001b[1;33m)\u001b[0m\u001b[1;33m)\u001b[0m\u001b[1;33m\u001b[0m\u001b[0m\n",
      "\u001b[0;32mC:\\Anaconda3\\envs\\tf35\\lib\\site-packages\\tensorflow\\python\\client\\session.py\u001b[0m in \u001b[0;36mrun\u001b[0;34m(self, fetches, feed_dict, options, run_metadata)\u001b[0m\n\u001b[1;32m    764\u001b[0m     \u001b[1;32mtry\u001b[0m\u001b[1;33m:\u001b[0m\u001b[1;33m\u001b[0m\u001b[0m\n\u001b[1;32m    765\u001b[0m       result = self._run(None, fetches, feed_dict, options_ptr,\n\u001b[0;32m--> 766\u001b[0;31m                          run_metadata_ptr)\n\u001b[0m\u001b[1;32m    767\u001b[0m       \u001b[1;32mif\u001b[0m \u001b[0mrun_metadata\u001b[0m\u001b[1;33m:\u001b[0m\u001b[1;33m\u001b[0m\u001b[0m\n\u001b[1;32m    768\u001b[0m         \u001b[0mproto_data\u001b[0m \u001b[1;33m=\u001b[0m \u001b[0mtf_session\u001b[0m\u001b[1;33m.\u001b[0m\u001b[0mTF_GetBuffer\u001b[0m\u001b[1;33m(\u001b[0m\u001b[0mrun_metadata_ptr\u001b[0m\u001b[1;33m)\u001b[0m\u001b[1;33m\u001b[0m\u001b[0m\n",
      "\u001b[0;32mC:\\Anaconda3\\envs\\tf35\\lib\\site-packages\\tensorflow\\python\\client\\session.py\u001b[0m in \u001b[0;36m_run\u001b[0;34m(self, handle, fetches, feed_dict, options, run_metadata)\u001b[0m\n\u001b[1;32m    962\u001b[0m     \u001b[1;32mif\u001b[0m \u001b[0mfinal_fetches\u001b[0m \u001b[1;32mor\u001b[0m \u001b[0mfinal_targets\u001b[0m\u001b[1;33m:\u001b[0m\u001b[1;33m\u001b[0m\u001b[0m\n\u001b[1;32m    963\u001b[0m       results = self._do_run(handle, final_targets, final_fetches,\n\u001b[0;32m--> 964\u001b[0;31m                              feed_dict_string, options, run_metadata)\n\u001b[0m\u001b[1;32m    965\u001b[0m     \u001b[1;32melse\u001b[0m\u001b[1;33m:\u001b[0m\u001b[1;33m\u001b[0m\u001b[0m\n\u001b[1;32m    966\u001b[0m       \u001b[0mresults\u001b[0m \u001b[1;33m=\u001b[0m \u001b[1;33m[\u001b[0m\u001b[1;33m]\u001b[0m\u001b[1;33m\u001b[0m\u001b[0m\n",
      "\u001b[0;32mC:\\Anaconda3\\envs\\tf35\\lib\\site-packages\\tensorflow\\python\\client\\session.py\u001b[0m in \u001b[0;36m_do_run\u001b[0;34m(self, handle, target_list, fetch_list, feed_dict, options, run_metadata)\u001b[0m\n\u001b[1;32m   1012\u001b[0m     \u001b[1;32mif\u001b[0m \u001b[0mhandle\u001b[0m \u001b[1;32mis\u001b[0m \u001b[1;32mNone\u001b[0m\u001b[1;33m:\u001b[0m\u001b[1;33m\u001b[0m\u001b[0m\n\u001b[1;32m   1013\u001b[0m       return self._do_call(_run_fn, self._session, feed_dict, fetch_list,\n\u001b[0;32m-> 1014\u001b[0;31m                            target_list, options, run_metadata)\n\u001b[0m\u001b[1;32m   1015\u001b[0m     \u001b[1;32melse\u001b[0m\u001b[1;33m:\u001b[0m\u001b[1;33m\u001b[0m\u001b[0m\n\u001b[1;32m   1016\u001b[0m       return self._do_call(_prun_fn, self._session, handle, feed_dict,\n",
      "\u001b[0;32mC:\\Anaconda3\\envs\\tf35\\lib\\site-packages\\tensorflow\\python\\client\\session.py\u001b[0m in \u001b[0;36m_do_call\u001b[0;34m(self, fn, *args)\u001b[0m\n\u001b[1;32m   1019\u001b[0m   \u001b[1;32mdef\u001b[0m \u001b[0m_do_call\u001b[0m\u001b[1;33m(\u001b[0m\u001b[0mself\u001b[0m\u001b[1;33m,\u001b[0m \u001b[0mfn\u001b[0m\u001b[1;33m,\u001b[0m \u001b[1;33m*\u001b[0m\u001b[0margs\u001b[0m\u001b[1;33m)\u001b[0m\u001b[1;33m:\u001b[0m\u001b[1;33m\u001b[0m\u001b[0m\n\u001b[1;32m   1020\u001b[0m     \u001b[1;32mtry\u001b[0m\u001b[1;33m:\u001b[0m\u001b[1;33m\u001b[0m\u001b[0m\n\u001b[0;32m-> 1021\u001b[0;31m       \u001b[1;32mreturn\u001b[0m \u001b[0mfn\u001b[0m\u001b[1;33m(\u001b[0m\u001b[1;33m*\u001b[0m\u001b[0margs\u001b[0m\u001b[1;33m)\u001b[0m\u001b[1;33m\u001b[0m\u001b[0m\n\u001b[0m\u001b[1;32m   1022\u001b[0m     \u001b[1;32mexcept\u001b[0m \u001b[0merrors\u001b[0m\u001b[1;33m.\u001b[0m\u001b[0mOpError\u001b[0m \u001b[1;32mas\u001b[0m \u001b[0me\u001b[0m\u001b[1;33m:\u001b[0m\u001b[1;33m\u001b[0m\u001b[0m\n\u001b[1;32m   1023\u001b[0m       \u001b[0mmessage\u001b[0m \u001b[1;33m=\u001b[0m \u001b[0mcompat\u001b[0m\u001b[1;33m.\u001b[0m\u001b[0mas_text\u001b[0m\u001b[1;33m(\u001b[0m\u001b[0me\u001b[0m\u001b[1;33m.\u001b[0m\u001b[0mmessage\u001b[0m\u001b[1;33m)\u001b[0m\u001b[1;33m\u001b[0m\u001b[0m\n",
      "\u001b[0;32mC:\\Anaconda3\\envs\\tf35\\lib\\site-packages\\tensorflow\\python\\client\\session.py\u001b[0m in \u001b[0;36m_run_fn\u001b[0;34m(session, feed_dict, fetch_list, target_list, options, run_metadata)\u001b[0m\n\u001b[1;32m    997\u001b[0m                 run_metadata):\n\u001b[1;32m    998\u001b[0m       \u001b[1;31m# Ensure any changes to the graph are reflected in the runtime.\u001b[0m\u001b[1;33m\u001b[0m\u001b[1;33m\u001b[0m\u001b[0m\n\u001b[0;32m--> 999\u001b[0;31m       \u001b[0mself\u001b[0m\u001b[1;33m.\u001b[0m\u001b[0m_extend_graph\u001b[0m\u001b[1;33m(\u001b[0m\u001b[1;33m)\u001b[0m\u001b[1;33m\u001b[0m\u001b[0m\n\u001b[0m\u001b[1;32m   1000\u001b[0m       \u001b[1;32mwith\u001b[0m \u001b[0merrors\u001b[0m\u001b[1;33m.\u001b[0m\u001b[0mraise_exception_on_not_ok_status\u001b[0m\u001b[1;33m(\u001b[0m\u001b[1;33m)\u001b[0m \u001b[1;32mas\u001b[0m \u001b[0mstatus\u001b[0m\u001b[1;33m:\u001b[0m\u001b[1;33m\u001b[0m\u001b[0m\n\u001b[1;32m   1001\u001b[0m         return tf_session.TF_Run(session, options,\n",
      "\u001b[0;32mC:\\Anaconda3\\envs\\tf35\\lib\\site-packages\\tensorflow\\python\\client\\session.py\u001b[0m in \u001b[0;36m_extend_graph\u001b[0;34m(self)\u001b[0m\n\u001b[1;32m   1046\u001b[0m         \u001b[1;32mwith\u001b[0m \u001b[0merrors\u001b[0m\u001b[1;33m.\u001b[0m\u001b[0mraise_exception_on_not_ok_status\u001b[0m\u001b[1;33m(\u001b[0m\u001b[1;33m)\u001b[0m \u001b[1;32mas\u001b[0m \u001b[0mstatus\u001b[0m\u001b[1;33m:\u001b[0m\u001b[1;33m\u001b[0m\u001b[0m\n\u001b[1;32m   1047\u001b[0m           tf_session.TF_ExtendGraph(\n\u001b[0;32m-> 1048\u001b[0;31m               self._session, graph_def.SerializeToString(), status)\n\u001b[0m\u001b[1;32m   1049\u001b[0m         \u001b[0mself\u001b[0m\u001b[1;33m.\u001b[0m\u001b[0m_opened\u001b[0m \u001b[1;33m=\u001b[0m \u001b[1;32mTrue\u001b[0m\u001b[1;33m\u001b[0m\u001b[0m\n\u001b[1;32m   1050\u001b[0m \u001b[1;33m\u001b[0m\u001b[0m\n",
      "\u001b[0;31mKeyboardInterrupt\u001b[0m: "
     ]
    }
   ],
   "source": [
    "df1['dim'] = np.nan\n",
    "df1['avg_imp'] = np.nan\n",
    "for idx in df1.index:\n",
    "    try:\n",
    "        info = get_info(idx, df1)\n",
    "        print(df1['data'][idx])\n",
    "        high_imp = info.groupby('source')['imps'].mean().sort_values(ascending=False)\n",
    "        df1.loc[idx, 'avg_imp'] = [high_imp.to_dict()]\n",
    "    except Exception as e:\n",
    "        print(e)"
   ]
  },
  {
   "cell_type": "code",
   "execution_count": 54,
   "metadata": {
    "collapsed": false
   },
   "outputs": [
    {
     "data": {
      "image/png": "[encoded data removed]",
      "text/plain": [
       "<matplotlib.figure.Figure at 0x2115bfe7e48>"
      ]
     },
     "metadata": {},
     "output_type": "display_data"
    }
   ],
   "source": [
    "cross_imp = pd.DataFrame([dict(list(y[0].items()) + [('data', x)]) for x, y in zip(df1['data'], df1['avg_imp'])])\n",
    "cross_imp.set_index('data', drop=True, inplace=True)\n",
    "# sources_to_plot = [x for x in list(cross_imp.index) if x not in ['CCIB', 'EBNP']]\n",
    "sources_to_plot = [s for s in sources if s not in ['ABNP', 'Barc', 'CCGC', 'CCIB', 'CMAr', 'EBNP', 'BXCY', 'GSOL']]\n",
    "fig, ax = plt.subplots(1, figsize=(5,3.5))\n",
    "sns.heatmap(cross_imp.loc[sources_to_plot, sources_to_plot], ax=ax)\n",
    "ax.set_ylabel('')\n",
    "# ax.invert_yaxis()\n",
    "fig.savefig('plots\\cross_significance1.png')"
   ]
  },
  {
   "cell_type": "code",
   "execution_count": 327,
   "metadata": {
    "collapsed": false
   },
   "outputs": [
    {
     "ename": "KeyError",
     "evalue": "'avg_imp'",
     "output_type": "error",
     "traceback": [
      "\u001b[0;31m---------------------------------------------------------------------------\u001b[0m",
      "\u001b[0;31mKeyError\u001b[0m                                  Traceback (most recent call last)",
      "\u001b[0;32mC:\\Anaconda3\\envs\\tf35\\lib\\site-packages\\pandas\\indexes\\base.py\u001b[0m in \u001b[0;36mget_loc\u001b[0;34m(self, key, method, tolerance)\u001b[0m\n\u001b[1;32m   2133\u001b[0m             \u001b[1;32mtry\u001b[0m\u001b[1;33m:\u001b[0m\u001b[1;33m\u001b[0m\u001b[0m\n\u001b[0;32m-> 2134\u001b[0;31m                 \u001b[1;32mreturn\u001b[0m \u001b[0mself\u001b[0m\u001b[1;33m.\u001b[0m\u001b[0m_engine\u001b[0m\u001b[1;33m.\u001b[0m\u001b[0mget_loc\u001b[0m\u001b[1;33m(\u001b[0m\u001b[0mkey\u001b[0m\u001b[1;33m)\u001b[0m\u001b[1;33m\u001b[0m\u001b[0m\n\u001b[0m\u001b[1;32m   2135\u001b[0m             \u001b[1;32mexcept\u001b[0m \u001b[0mKeyError\u001b[0m\u001b[1;33m:\u001b[0m\u001b[1;33m\u001b[0m\u001b[0m\n",
      "\u001b[0;32mpandas\\index.pyx\u001b[0m in \u001b[0;36mpandas.index.IndexEngine.get_loc (pandas\\index.c:4443)\u001b[0;34m()\u001b[0m\n",
      "\u001b[0;32mpandas\\index.pyx\u001b[0m in \u001b[0;36mpandas.index.IndexEngine.get_loc (pandas\\index.c:4289)\u001b[0;34m()\u001b[0m\n",
      "\u001b[0;32mpandas\\src\\hashtable_class_helper.pxi\u001b[0m in \u001b[0;36mpandas.hashtable.PyObjectHashTable.get_item (pandas\\hashtable.c:13733)\u001b[0;34m()\u001b[0m\n",
      "\u001b[0;32mpandas\\src\\hashtable_class_helper.pxi\u001b[0m in \u001b[0;36mpandas.hashtable.PyObjectHashTable.get_item (pandas\\hashtable.c:13687)\u001b[0;34m()\u001b[0m\n",
      "\u001b[0;31mKeyError\u001b[0m: 'avg_imp'",
      "\nDuring handling of the above exception, another exception occurred:\n",
      "\u001b[0;31mKeyError\u001b[0m                                  Traceback (most recent call last)",
      "\u001b[0;32m<ipython-input-327-fe1c022c32c1>\u001b[0m in \u001b[0;36m<module>\u001b[0;34m()\u001b[0m\n\u001b[0;32m----> 1\u001b[0;31m \u001b[0mpd\u001b[0m\u001b[1;33m.\u001b[0m\u001b[0mDataFrame\u001b[0m\u001b[1;33m(\u001b[0m\u001b[1;33m[\u001b[0m\u001b[0mdict\u001b[0m\u001b[1;33m(\u001b[0m\u001b[0mlist\u001b[0m\u001b[1;33m(\u001b[0m\u001b[0my\u001b[0m\u001b[1;33m[\u001b[0m\u001b[1;36m0\u001b[0m\u001b[1;33m]\u001b[0m\u001b[1;33m.\u001b[0m\u001b[0mitems\u001b[0m\u001b[1;33m(\u001b[0m\u001b[1;33m)\u001b[0m\u001b[1;33m)\u001b[0m \u001b[1;33m+\u001b[0m \u001b[1;33m[\u001b[0m\u001b[1;33m(\u001b[0m\u001b[1;34m'data'\u001b[0m\u001b[1;33m,\u001b[0m \u001b[0mx\u001b[0m\u001b[1;33m)\u001b[0m\u001b[1;33m]\u001b[0m\u001b[1;33m)\u001b[0m \u001b[1;32mfor\u001b[0m \u001b[0mx\u001b[0m\u001b[1;33m,\u001b[0m \u001b[0my\u001b[0m \u001b[1;32min\u001b[0m \u001b[0mzip\u001b[0m\u001b[1;33m(\u001b[0m\u001b[0mdf1\u001b[0m\u001b[1;33m[\u001b[0m\u001b[1;34m'data'\u001b[0m\u001b[1;33m]\u001b[0m\u001b[1;33m,\u001b[0m \u001b[0mdf1\u001b[0m\u001b[1;33m[\u001b[0m\u001b[1;34m'avg_imp'\u001b[0m\u001b[1;33m]\u001b[0m\u001b[1;33m)\u001b[0m\u001b[1;33m]\u001b[0m\u001b[1;33m)\u001b[0m\u001b[1;33m\u001b[0m\u001b[0m\n\u001b[0m",
      "\u001b[0;32mC:\\Anaconda3\\envs\\tf35\\lib\\site-packages\\pandas\\core\\frame.py\u001b[0m in \u001b[0;36m__getitem__\u001b[0;34m(self, key)\u001b[0m\n\u001b[1;32m   2057\u001b[0m             \u001b[1;32mreturn\u001b[0m \u001b[0mself\u001b[0m\u001b[1;33m.\u001b[0m\u001b[0m_getitem_multilevel\u001b[0m\u001b[1;33m(\u001b[0m\u001b[0mkey\u001b[0m\u001b[1;33m)\u001b[0m\u001b[1;33m\u001b[0m\u001b[0m\n\u001b[1;32m   2058\u001b[0m         \u001b[1;32melse\u001b[0m\u001b[1;33m:\u001b[0m\u001b[1;33m\u001b[0m\u001b[0m\n\u001b[0;32m-> 2059\u001b[0;31m             \u001b[1;32mreturn\u001b[0m \u001b[0mself\u001b[0m\u001b[1;33m.\u001b[0m\u001b[0m_getitem_column\u001b[0m\u001b[1;33m(\u001b[0m\u001b[0mkey\u001b[0m\u001b[1;33m)\u001b[0m\u001b[1;33m\u001b[0m\u001b[0m\n\u001b[0m\u001b[1;32m   2060\u001b[0m \u001b[1;33m\u001b[0m\u001b[0m\n\u001b[1;32m   2061\u001b[0m     \u001b[1;32mdef\u001b[0m \u001b[0m_getitem_column\u001b[0m\u001b[1;33m(\u001b[0m\u001b[0mself\u001b[0m\u001b[1;33m,\u001b[0m \u001b[0mkey\u001b[0m\u001b[1;33m)\u001b[0m\u001b[1;33m:\u001b[0m\u001b[1;33m\u001b[0m\u001b[0m\n",
      "\u001b[0;32mC:\\Anaconda3\\envs\\tf35\\lib\\site-packages\\pandas\\core\\frame.py\u001b[0m in \u001b[0;36m_getitem_column\u001b[0;34m(self, key)\u001b[0m\n\u001b[1;32m   2064\u001b[0m         \u001b[1;31m# get column\u001b[0m\u001b[1;33m\u001b[0m\u001b[1;33m\u001b[0m\u001b[0m\n\u001b[1;32m   2065\u001b[0m         \u001b[1;32mif\u001b[0m \u001b[0mself\u001b[0m\u001b[1;33m.\u001b[0m\u001b[0mcolumns\u001b[0m\u001b[1;33m.\u001b[0m\u001b[0mis_unique\u001b[0m\u001b[1;33m:\u001b[0m\u001b[1;33m\u001b[0m\u001b[0m\n\u001b[0;32m-> 2066\u001b[0;31m             \u001b[1;32mreturn\u001b[0m \u001b[0mself\u001b[0m\u001b[1;33m.\u001b[0m\u001b[0m_get_item_cache\u001b[0m\u001b[1;33m(\u001b[0m\u001b[0mkey\u001b[0m\u001b[1;33m)\u001b[0m\u001b[1;33m\u001b[0m\u001b[0m\n\u001b[0m\u001b[1;32m   2067\u001b[0m \u001b[1;33m\u001b[0m\u001b[0m\n\u001b[1;32m   2068\u001b[0m         \u001b[1;31m# duplicate columns & possible reduce dimensionality\u001b[0m\u001b[1;33m\u001b[0m\u001b[1;33m\u001b[0m\u001b[0m\n",
      "\u001b[0;32mC:\\Anaconda3\\envs\\tf35\\lib\\site-packages\\pandas\\core\\generic.py\u001b[0m in \u001b[0;36m_get_item_cache\u001b[0;34m(self, item)\u001b[0m\n\u001b[1;32m   1384\u001b[0m         \u001b[0mres\u001b[0m \u001b[1;33m=\u001b[0m \u001b[0mcache\u001b[0m\u001b[1;33m.\u001b[0m\u001b[0mget\u001b[0m\u001b[1;33m(\u001b[0m\u001b[0mitem\u001b[0m\u001b[1;33m)\u001b[0m\u001b[1;33m\u001b[0m\u001b[0m\n\u001b[1;32m   1385\u001b[0m         \u001b[1;32mif\u001b[0m \u001b[0mres\u001b[0m \u001b[1;32mis\u001b[0m \u001b[1;32mNone\u001b[0m\u001b[1;33m:\u001b[0m\u001b[1;33m\u001b[0m\u001b[0m\n\u001b[0;32m-> 1386\u001b[0;31m             \u001b[0mvalues\u001b[0m \u001b[1;33m=\u001b[0m \u001b[0mself\u001b[0m\u001b[1;33m.\u001b[0m\u001b[0m_data\u001b[0m\u001b[1;33m.\u001b[0m\u001b[0mget\u001b[0m\u001b[1;33m(\u001b[0m\u001b[0mitem\u001b[0m\u001b[1;33m)\u001b[0m\u001b[1;33m\u001b[0m\u001b[0m\n\u001b[0m\u001b[1;32m   1387\u001b[0m             \u001b[0mres\u001b[0m \u001b[1;33m=\u001b[0m \u001b[0mself\u001b[0m\u001b[1;33m.\u001b[0m\u001b[0m_box_item_values\u001b[0m\u001b[1;33m(\u001b[0m\u001b[0mitem\u001b[0m\u001b[1;33m,\u001b[0m \u001b[0mvalues\u001b[0m\u001b[1;33m)\u001b[0m\u001b[1;33m\u001b[0m\u001b[0m\n\u001b[1;32m   1388\u001b[0m             \u001b[0mcache\u001b[0m\u001b[1;33m[\u001b[0m\u001b[0mitem\u001b[0m\u001b[1;33m]\u001b[0m \u001b[1;33m=\u001b[0m \u001b[0mres\u001b[0m\u001b[1;33m\u001b[0m\u001b[0m\n",
      "\u001b[0;32mC:\\Anaconda3\\envs\\tf35\\lib\\site-packages\\pandas\\core\\internals.py\u001b[0m in \u001b[0;36mget\u001b[0;34m(self, item, fastpath)\u001b[0m\n\u001b[1;32m   3539\u001b[0m \u001b[1;33m\u001b[0m\u001b[0m\n\u001b[1;32m   3540\u001b[0m             \u001b[1;32mif\u001b[0m \u001b[1;32mnot\u001b[0m \u001b[0misnull\u001b[0m\u001b[1;33m(\u001b[0m\u001b[0mitem\u001b[0m\u001b[1;33m)\u001b[0m\u001b[1;33m:\u001b[0m\u001b[1;33m\u001b[0m\u001b[0m\n\u001b[0;32m-> 3541\u001b[0;31m                 \u001b[0mloc\u001b[0m \u001b[1;33m=\u001b[0m \u001b[0mself\u001b[0m\u001b[1;33m.\u001b[0m\u001b[0mitems\u001b[0m\u001b[1;33m.\u001b[0m\u001b[0mget_loc\u001b[0m\u001b[1;33m(\u001b[0m\u001b[0mitem\u001b[0m\u001b[1;33m)\u001b[0m\u001b[1;33m\u001b[0m\u001b[0m\n\u001b[0m\u001b[1;32m   3542\u001b[0m             \u001b[1;32melse\u001b[0m\u001b[1;33m:\u001b[0m\u001b[1;33m\u001b[0m\u001b[0m\n\u001b[1;32m   3543\u001b[0m                 \u001b[0mindexer\u001b[0m \u001b[1;33m=\u001b[0m \u001b[0mnp\u001b[0m\u001b[1;33m.\u001b[0m\u001b[0marange\u001b[0m\u001b[1;33m(\u001b[0m\u001b[0mlen\u001b[0m\u001b[1;33m(\u001b[0m\u001b[0mself\u001b[0m\u001b[1;33m.\u001b[0m\u001b[0mitems\u001b[0m\u001b[1;33m)\u001b[0m\u001b[1;33m)\u001b[0m\u001b[1;33m[\u001b[0m\u001b[0misnull\u001b[0m\u001b[1;33m(\u001b[0m\u001b[0mself\u001b[0m\u001b[1;33m.\u001b[0m\u001b[0mitems\u001b[0m\u001b[1;33m)\u001b[0m\u001b[1;33m]\u001b[0m\u001b[1;33m\u001b[0m\u001b[0m\n",
      "\u001b[0;32mC:\\Anaconda3\\envs\\tf35\\lib\\site-packages\\pandas\\indexes\\base.py\u001b[0m in \u001b[0;36mget_loc\u001b[0;34m(self, key, method, tolerance)\u001b[0m\n\u001b[1;32m   2134\u001b[0m                 \u001b[1;32mreturn\u001b[0m \u001b[0mself\u001b[0m\u001b[1;33m.\u001b[0m\u001b[0m_engine\u001b[0m\u001b[1;33m.\u001b[0m\u001b[0mget_loc\u001b[0m\u001b[1;33m(\u001b[0m\u001b[0mkey\u001b[0m\u001b[1;33m)\u001b[0m\u001b[1;33m\u001b[0m\u001b[0m\n\u001b[1;32m   2135\u001b[0m             \u001b[1;32mexcept\u001b[0m \u001b[0mKeyError\u001b[0m\u001b[1;33m:\u001b[0m\u001b[1;33m\u001b[0m\u001b[0m\n\u001b[0;32m-> 2136\u001b[0;31m                 \u001b[1;32mreturn\u001b[0m \u001b[0mself\u001b[0m\u001b[1;33m.\u001b[0m\u001b[0m_engine\u001b[0m\u001b[1;33m.\u001b[0m\u001b[0mget_loc\u001b[0m\u001b[1;33m(\u001b[0m\u001b[0mself\u001b[0m\u001b[1;33m.\u001b[0m\u001b[0m_maybe_cast_indexer\u001b[0m\u001b[1;33m(\u001b[0m\u001b[0mkey\u001b[0m\u001b[1;33m)\u001b[0m\u001b[1;33m)\u001b[0m\u001b[1;33m\u001b[0m\u001b[0m\n\u001b[0m\u001b[1;32m   2137\u001b[0m \u001b[1;33m\u001b[0m\u001b[0m\n\u001b[1;32m   2138\u001b[0m         \u001b[0mindexer\u001b[0m \u001b[1;33m=\u001b[0m \u001b[0mself\u001b[0m\u001b[1;33m.\u001b[0m\u001b[0mget_indexer\u001b[0m\u001b[1;33m(\u001b[0m\u001b[1;33m[\u001b[0m\u001b[0mkey\u001b[0m\u001b[1;33m]\u001b[0m\u001b[1;33m,\u001b[0m \u001b[0mmethod\u001b[0m\u001b[1;33m=\u001b[0m\u001b[0mmethod\u001b[0m\u001b[1;33m,\u001b[0m \u001b[0mtolerance\u001b[0m\u001b[1;33m=\u001b[0m\u001b[0mtolerance\u001b[0m\u001b[1;33m)\u001b[0m\u001b[1;33m\u001b[0m\u001b[0m\n",
      "\u001b[0;32mpandas\\index.pyx\u001b[0m in \u001b[0;36mpandas.index.IndexEngine.get_loc (pandas\\index.c:4443)\u001b[0;34m()\u001b[0m\n",
      "\u001b[0;32mpandas\\index.pyx\u001b[0m in \u001b[0;36mpandas.index.IndexEngine.get_loc (pandas\\index.c:4289)\u001b[0;34m()\u001b[0m\n",
      "\u001b[0;32mpandas\\src\\hashtable_class_helper.pxi\u001b[0m in \u001b[0;36mpandas.hashtable.PyObjectHashTable.get_item (pandas\\hashtable.c:13733)\u001b[0;34m()\u001b[0m\n",
      "\u001b[0;32mpandas\\src\\hashtable_class_helper.pxi\u001b[0m in \u001b[0;36mpandas.hashtable.PyObjectHashTable.get_item (pandas\\hashtable.c:13687)\u001b[0;34m()\u001b[0m\n",
      "\u001b[0;31mKeyError\u001b[0m: 'avg_imp'"
     ]
    }
   ],
   "source": [
    "pd.DataFrame([dict(list(y[0].items()) + [('data', x)]) for x, y in zip(df1['data'], df1['avg_imp'])])"
   ]
  },
  {
   "cell_type": "code",
   "execution_count": 122,
   "metadata": {
    "collapsed": false
   },
   "outputs": [
    {
     "data": {
      "text/plain": [
       "67     keras_1benchmark_class_ret.pkl\n",
       "68     keras_1benchmark_class_ret.pkl\n",
       "69     keras_1benchmark_class_ret.pkl\n",
       "70     keras_1benchmark_class_ret.pkl\n",
       "71     keras_1benchmark_class_ret.pkl\n",
       "72     keras_1benchmark_class_ret.pkl\n",
       "73     keras_1benchmark_class_ret.pkl\n",
       "74     keras_1benchmark_class_ret.pkl\n",
       "75     keras_1benchmark_class_ret.pkl\n",
       "76     keras_1benchmark_class_ret.pkl\n",
       "77     keras_1benchmark_class_ret.pkl\n",
       "78     keras_1benchmark_class_ret.pkl\n",
       "79     keras_1benchmark_class_ret.pkl\n",
       "80     keras_1benchmark_class_ret.pkl\n",
       "81     keras_1benchmark_class_ret.pkl\n",
       "82     keras_1benchmark_class_ret.pkl\n",
       "83     keras_1benchmark_class_ret.pkl\n",
       "84     keras_1benchmark_class_ret.pkl\n",
       "85     keras_1benchmark_class_ret.pkl\n",
       "86     keras_1benchmark_class_ret.pkl\n",
       "87     keras_1benchmark_class_ret.pkl\n",
       "88     keras_1benchmark_class_ret.pkl\n",
       "89     keras_1benchmark_class_ret.pkl\n",
       "90     keras_1benchmark_class_ret.pkl\n",
       "91     keras_1benchmark_class_ret.pkl\n",
       "193             keras_3_class_ret.pkl\n",
       "195             keras_3_class_ret.pkl\n",
       "200             keras_3_class_ret.pkl\n",
       "222             keras_3_class_ret.pkl\n",
       "225             keras_3_class_ret.pkl\n",
       "230             keras_3_class_ret.pkl\n",
       "231             keras_3_class_ret.pkl\n",
       "233             keras_3_class_ret.pkl\n",
       "234             keras_3_class_ret.pkl\n",
       "235             keras_3_class_ret.pkl\n",
       "236             keras_3_class_ret.pkl\n",
       "237             keras_3_class_ret.pkl\n",
       "238             keras_3_class_ret.pkl\n",
       "239             keras_3_class_ret.pkl\n",
       "240             keras_3_class_ret.pkl\n",
       "241             keras_3_class_ret.pkl\n",
       "242             keras_3_class_ret.pkl\n",
       "243             keras_3_class_ret.pkl\n",
       "244             keras_3_class_ret.pkl\n",
       "245             keras_3_class_ret.pkl\n",
       "246             keras_3_class_ret.pkl\n",
       "247             keras_3_class_ret.pkl\n",
       "276         keras_3_class_retMSTX.pkl\n",
       "318              keras__class_ret.pkl\n",
       "337              keras__class_ret.pkl\n",
       "344              keras__class_ret.pkl\n",
       "369              keras__class_ret.pkl\n",
       "371              keras__class_ret.pkl\n",
       "Name: file, dtype: object"
      ]
     },
     "execution_count": 122,
     "metadata": {},
     "output_type": "execute_result"
    }
   ],
   "source": [
    "df0['file']"
   ]
  },
  {
   "cell_type": "code",
   "execution_count": 22,
   "metadata": {
    "collapsed": false
   },
   "outputs": [
    {
     "ename": "NameError",
     "evalue": "name 'nn' is not defined",
     "output_type": "error",
     "traceback": [
      "\u001b[0;31m---------------------------------------------------------------------------\u001b[0m",
      "\u001b[0;31mNameError\u001b[0m                                 Traceback (most recent call last)",
      "\u001b[0;32m<ipython-input-22-d9c324d4dbf0>\u001b[0m in \u001b[0;36m<module>\u001b[0;34m()\u001b[0m\n\u001b[0;32m----> 1\u001b[0;31m \u001b[0mget_layer_no\u001b[0m\u001b[1;33m(\u001b[0m\u001b[0mnn\u001b[0m\u001b[1;33m,\u001b[0m \u001b[1;34m'importance_input'\u001b[0m\u001b[1;33m)\u001b[0m\u001b[1;33m\u001b[0m\u001b[0m\n\u001b[0m",
      "\u001b[0;31mNameError\u001b[0m: name 'nn' is not defined"
     ]
    }
   ],
   "source": [
    "get_layer_no(nn, 'importance_input')"
   ]
  },
  {
   "cell_type": "code",
   "execution_count": 174,
   "metadata": {
    "collapsed": false
   },
   "outputs": [
    {
     "data": {
      "text/plain": [
       "Index(['act', 'architecture', 'aux_weight', 'batchnorm', 'data', 'date',\n",
       "       'datetime', 'div', 'dt', 'hdf5', 'initialization', 'layer_size',\n",
       "       'layers_no', 'length', 'loss', 'main_output_loss', 'norm', 'patience',\n",
       "       'training_time', 'val_loss', 'val_main_output_loss',\n",
       "       'val_value_output_loss', 'value_output_loss', 'verbose', 'epochs',\n",
       "       'objective', 'returns', 'full_shift', 'NeX', 'batch_size', 'channels',\n",
       "       'model', 'best_mse', 'best_acc', 'file'],\n",
       "      dtype='object')"
      ]
     },
     "execution_count": 174,
     "metadata": {},
     "output_type": "execute_result"
    }
   ],
   "source": [
    "df.columns"
   ]
  },
  {
   "cell_type": "code",
   "execution_count": null,
   "metadata": {
    "collapsed": true
   },
   "outputs": [],
   "source": []
  }
 ],
 "metadata": {
  "anaconda-cloud": {},
  "kernelspec": {
   "display_name": "Python [conda env:tf35]",
   "language": "python",
   "name": "conda-env-tf35-py"
  },
  "language_info": {
   "codemirror_mode": {
    "name": "ipython",
    "version": 3
   },
   "file_extension": ".py",
   "mimetype": "text/x-python",
   "name": "python",
   "nbconvert_exporter": "python",
   "pygments_lexer": "ipython3",
   "version": "3.5.2"
  }
 },
 "nbformat": 4,
 "nbformat_minor": 2
}
